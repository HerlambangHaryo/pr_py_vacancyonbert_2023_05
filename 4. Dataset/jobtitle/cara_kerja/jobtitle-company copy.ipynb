{
 "cells": [
  {
   "cell_type": "code",
   "execution_count": 1,
   "metadata": {},
   "outputs": [],
   "source": [
    "import json\n",
    "\n",
    "# Baca data dari file JSON\n",
    "with open(\"dataset_jobtitle-cara_kerja.json\", \"r\", encoding=\"utf-8\") as json_file:\n",
    "    data = json.load(json_file)\n"
   ]
  },
  {
   "cell_type": "code",
   "execution_count": 10,
   "metadata": {},
   "outputs": [
    {
     "name": "stdout",
     "output_type": "stream",
     "text": [
      "                                              tokens  \\\n",
      "0  [{'text': 'FINANCE', 'label': 'O'}, {'text': '...   \n",
      "\n",
      "                                      tokenized_text  \\\n",
      "0  [[finance], [staff], [pe, ##lak, ##san, ##a], ...   \n",
      "\n",
      "                                              labels  \n",
      "0  [0, 0, 0, 0, 0, 0, 0, 0, 0, 0, 0, 0, 0, 0, 0, ...  \n",
      "                                                   tokens  \\\n",
      "count                                                   1   \n",
      "unique                                                  1   \n",
      "top     [{'text': 'FINANCE', 'label': 'O'}, {'text': '...   \n",
      "freq                                                    1   \n",
      "\n",
      "                                           tokenized_text  \\\n",
      "count                                                   1   \n",
      "unique                                                  1   \n",
      "top     [[finance], [staff], [pe, ##lak, ##san, ##a], ...   \n",
      "freq                                                    1   \n",
      "\n",
      "                                                   labels  \n",
      "count                                                   1  \n",
      "unique                                                  1  \n",
      "top     [0, 0, 0, 0, 0, 0, 0, 0, 0, 0, 0, 0, 0, 0, 0, ...  \n",
      "freq                                                    1  \n"
     ]
    }
   ],
   "source": [
    "import pandas as pd\n",
    " \n",
    "# Ubah data JSON menjadi DataFrame pandas\n",
    "df = pd.DataFrame(data[\"data\"])\n",
    "\n",
    "# Tokenisasi teks\n",
    "from transformers import AutoTokenizer\n",
    "\n",
    "tokenizer = AutoTokenizer.from_pretrained(\"bert-base-uncased\")\n",
    "df[\"tokenized_text\"] = df[\"tokens\"].apply(lambda tokens: [tokenizer.tokenize(token[\"text\"]) for token in tokens])\n",
    "\n",
    "# Konversi label BIO ke label numerik \n",
    "label_map = {\n",
    "    \"O\": 0,\n",
    "    \"B-cara_kerja\": 1,\n",
    "    \"I-cara_kerja\": 2\n",
    "}\n",
    "df[\"labels\"] = df[\"tokens\"].apply(lambda tokens: [label_map[token[\"label\"]] for token in tokens])\n",
    "\n",
    "# Pisahkan data menjadi data latih, validasi, dan uji\n",
    "# from sklearn.model_selection import train_test_split\n",
    "\n",
    "# train_df, temp_df = train_test_split(df, test_size=0.01)\n",
    "# valid_df, test_df = train_test_split(temp_df, test_size=0.5)\n",
    "\n",
    "from sklearn.model_selection import train_test_split\n",
    "\n",
    "# Menggunakan seluruh dataset sebagai data latihan\n",
    "train_df = df\n",
    "valid_df = None  # Tidak menggunakan data validasi\n",
    "test_df = None   # Tidak menggunakan data uji\n",
    "\n",
    "# Anda sekarang memiliki data latihan (train_df), data validasi (valid_df), dan data uji (test_df) yang sesuai untuk tugas NER.\n",
    "\n",
    "\n",
    "# Menampilkan 5 baris pertama dari DataFrame\n",
    "print(train_df.head())\n",
    "\n",
    "# Menampilkan statistik data\n",
    "print(train_df.describe())\n"
   ]
  },
  {
   "cell_type": "code",
   "execution_count": null,
   "metadata": {},
   "outputs": [],
   "source": []
  }
 ],
 "metadata": {
  "kernelspec": {
   "display_name": "base",
   "language": "python",
   "name": "python3"
  },
  "language_info": {
   "codemirror_mode": {
    "name": "ipython",
    "version": 3
   },
   "file_extension": ".py",
   "mimetype": "text/x-python",
   "name": "python",
   "nbconvert_exporter": "python",
   "pygments_lexer": "ipython3",
   "version": "3.9.12"
  }
 },
 "nbformat": 4,
 "nbformat_minor": 2
}
