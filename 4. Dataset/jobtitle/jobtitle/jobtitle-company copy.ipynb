{
 "cells": [
  {
   "cell_type": "code",
   "execution_count": 9,
   "metadata": {},
   "outputs": [],
   "source": [
    "import json\n",
    "\n",
    "# Baca data dari file JSON\n",
    "with open(\"dataset_jobtitle.json\", \"r\", encoding=\"utf-8\") as json_file:\n",
    "    data = json.load(json_file)\n"
   ]
  },
  {
   "cell_type": "code",
   "execution_count": null,
   "metadata": {},
   "outputs": [],
   "source": [
    "import pandas as pd\n",
    " \n",
    "# Ubah data JSON menjadi DataFrame pandas\n",
    "df = pd.DataFrame(data[\"data\"])\n",
    "\n",
    "# Tokenisasi teks\n",
    "from transformers import AutoTokenizer\n",
    "\n",
    "tokenizer = AutoTokenizer.from_pretrained(\"bert-base-uncased\")\n",
    "df[\"tokenized_text\"] = df[\"tokens\"].apply(lambda tokens: [tokenizer.tokenize(token[\"text\"]) for token in tokens])\n",
    "\n",
    "# Konversi label BIO ke label numerik \n",
    "label_map = {\n",
    "    \"O\": 0,\n",
    "    \"B-Perusahaan\": 1,\n",
    "    \"B-Pekerjaan_industri\": 2,\n",
    "    \"B-Jabatan\": 3,\n",
    "    \"B-Keterampilan_teknis\": 4,\n",
    "    \"B-Penempatan_negara\": 5,\n",
    "    \"B-Penempatan_wilayah\": 6,\n",
    "    \"B-Penempatan_pulau\": 7,\n",
    "    \"B-Penempatan_provinsi\": 8,\n",
    "    \"B-Penempatan_kota\": 9,\n",
    "    \"B-Penempatan_kecamatan\": 10,\n",
    "    \"B-Penempatan_kelurahan\": 11,\n",
    "    \"B-Penempatan_kawasan\": 12,\n",
    "    \"B-Penempatan_gedung\": 13,\n",
    "    \"B-Status_pekerjaan\": 14,\n",
    "    \"B-Kategori_pekerjaan\": 15,\n",
    "    \"B-Pengalaman_minimal\": 16,\n",
    "    \"B-Keterangan_pekerjaan\": 17,\n",
    "    \"B-Cara_kerja\": 18,  \n",
    "    \"I-Perusahaan\": 19,\n",
    "    \"I-Pekerjaan_industri\": 20,\n",
    "    \"I-Jabatan\": 21,\n",
    "    \"I-Keterampilan_teknis\": 22,\n",
    "    \"I-Penempatan_negara\": 23,\n",
    "    \"I-Penempatan_wilayah\": 24,\n",
    "    \"I-Penempatan_pulau\": 25,\n",
    "    \"I-Penempatan_provinsi\": 26,\n",
    "    \"I-Penempatan_kota\": 27,\n",
    "    \"I-Penempatan_kecamatan\": 28,\n",
    "    \"I-Penempatan_kelurahan\": 29,\n",
    "    \"I-Penempatan_kawasan\": 30,\n",
    "    \"I-Penempatan_gedung\": 31,\n",
    "    \"I-Status_pekerjaan\": 32,\n",
    "    \"I-Kategori_pekerjaan\": 33,\n",
    "    \"I-Pengalaman_minimal\": 34,\n",
    "    \"I-Keterangan_pekerjaan\": 35,\n",
    "    \"I-Cara_kerja\": 36,\n",
    "}\n",
    "df[\"labels\"] = df[\"tokens\"].apply(lambda tokens: [label_map[token[\"label\"]] for token in tokens])\n",
    "\n",
    "# Pisahkan data menjadi data latih, validasi, dan uji\n",
    "from sklearn.model_selection import train_test_split\n",
    "\n",
    "# train_df, temp_df = train_test_split(df, test_size=0.5)\n",
    "# valid_df, test_df = train_test_split(temp_df, test_size=0.5)\n",
    "\n",
    "train_df, temp_df = train_test_split(df, test_size=0.2, random_state=42)  # Menggunakan 80% data latih\n",
    "valid_df, test_df = train_test_split(temp_df, test_size=0.5, random_state=42)  # Membagi sisa 20% menjadi 10% data validasi dan 10% data uji\n",
    "\n",
    "# from sklearn.model_selection import train_test_split\n",
    "\n",
    "# # Menggunakan seluruh dataset sebagai data latihan\n",
    "# train_df = df\n",
    "# valid_df = None  # Tidak menggunakan data validasi\n",
    "# test_df = None   # Tidak menggunakan data uji\n",
    "\n",
    "# Anda sekarang memiliki data latihan (train_df), data validasi (valid_df), dan data uji (test_df) yang sesuai untuk tugas NER.\n",
    "\n",
    "\n",
    "# Menampilkan 5 baris pertama dari DataFrame\n",
    "print(train_df.head())\n",
    "\n",
    "# Menampilkan statistik data\n",
    "print(train_df.describe())\n"
   ]
  },
  {
   "cell_type": "code",
   "execution_count": 11,
   "metadata": {},
   "outputs": [
    {
     "name": "stdout",
     "output_type": "stream",
     "text": [
      "Jumlah token dalam kolom 'tokens': 1\n"
     ]
    }
   ],
   "source": [
    "from sklearn.model_selection import train_test_split\n",
    "\n",
    "# Memeriksa jumlah data dalam kolom \"tokens\"\n",
    "print(\"Jumlah token dalam kolom 'tokens':\", len(df[\"tokens\"]))\n",
    "\n",
    "# Memisahkan data menjadi data latih (80%) dan data uji (20%)\n",
    "# train_df, test_df = train_test_split(df, test_size=0.2, random_state=42)\n"
   ]
  }
 ],
 "metadata": {
  "kernelspec": {
   "display_name": "base",
   "language": "python",
   "name": "python3"
  },
  "language_info": {
   "codemirror_mode": {
    "name": "ipython",
    "version": 3
   },
   "file_extension": ".py",
   "mimetype": "text/x-python",
   "name": "python",
   "nbconvert_exporter": "python",
   "pygments_lexer": "ipython3",
   "version": "3.9.12"
  }
 },
 "nbformat": 4,
 "nbformat_minor": 2
}
