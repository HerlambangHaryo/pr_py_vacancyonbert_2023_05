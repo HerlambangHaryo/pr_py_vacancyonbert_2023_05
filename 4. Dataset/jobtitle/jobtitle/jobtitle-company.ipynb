{
 "cells": [
  {
   "cell_type": "code",
   "execution_count": 1,
   "metadata": {},
   "outputs": [
    {
     "name": "stdout",
     "output_type": "stream",
     "text": [
      "  ____set_to_all_dataset()\n",
      "  ______Select  id  , name  , perusahaan  , pekerjaan_industri  , jabatan  , keterampilan_teknis  , penempatan_negara  , penempatan_wilayah  , penempatan_pulau  , penempatan_provinsi  , penempatan_kota  , penempatan_kecamatan  , penempatan_kelurahan  , penempatan_kawasan  , penempatan_gedung  , status_pekerjaan  , kategori_pekerjaan  , pengalaman_minimal  , keterangan_pekerjaan  , cara_kerja  from dataset_jobtitle\n",
      "  ________Total Row(s) : 176209\n",
      "Data telah disimpan dalam dataset dataset_jobtitle.json\n",
      "  __End\n"
     ]
    }
   ],
   "source": [
    "# Import\n",
    "import sys\n",
    "sys.path.append('../../../')\n",
    " \n",
    "from a_models.dataset_to_hugging_face import *   \n",
    " \n",
    "if __name__ == '__main__': \n",
    "    # --------------------------------------------------   \n",
    "    databaseX    = 'pr_laravel_8_vacancyonbert_2023_05'\n",
    "    entity      = \"dataset_jobtitle\"     \n",
    "    # -------------------------------------------------- \n",
    "    space = \"  __\" \n",
    "    # --------------------------------------------------  \n",
    "    # --------------------------------------------------  \n",
    "    set_to_all_dataset(databaseX, entity, space)\n",
    "    # --------------------------------------------------   \n",
    "    print(space + \"End\") \n",
    "    ####################################################  "
   ]
  }
 ],
 "metadata": {
  "kernelspec": {
   "display_name": "base",
   "language": "python",
   "name": "python3"
  },
  "language_info": {
   "codemirror_mode": {
    "name": "ipython",
    "version": 3
   },
   "file_extension": ".py",
   "mimetype": "text/x-python",
   "name": "python",
   "nbconvert_exporter": "python",
   "pygments_lexer": "ipython3",
   "version": "3.9.12"
  }
 },
 "nbformat": 4,
 "nbformat_minor": 2
}
