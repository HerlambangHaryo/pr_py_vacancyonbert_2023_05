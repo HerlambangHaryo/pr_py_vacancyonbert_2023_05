{
 "cells": [
  {
   "cell_type": "code",
   "execution_count": 1,
   "metadata": {},
   "outputs": [
    {
     "name": "stdout",
     "output_type": "stream",
     "text": [
      "  ____set_to_dataset()\n",
      "  ______Select  id  , name  , perusahaan from dataset_jobtitle\n",
      "  ________Total Row(s) : 176209\n",
      "Data telah disimpan dalam dataset_jobtitle-perusahaan.json\n",
      "  __End\n"
     ]
    }
   ],
   "source": [
    "# Import\n",
    "import sys\n",
    "sys.path.append('../../../')\n",
    " \n",
    "from a_models.dataset_to_hugging_face import *   \n",
    " \n",
    "if __name__ == '__main__': \n",
    "    # --------------------------------------------------   \n",
    "    database    = 'pr_laravel_8_vacancyonbert_2023_05'\n",
    "    entity      = \"dataset_jobtitle\"    \n",
    "    named       = \"perusahaan\"    \n",
    "    # -------------------------------------------------- \n",
    "    space = \"  __\" \n",
    "    # --------------------------------------------------  \n",
    "    # -------------------------------------------------- \n",
    "    set_to_dataset(database, entity, named, space)\n",
    "    # --------------------------------------------------   \n",
    "    print(space + \"End\") \n",
    "    ####################################################  "
   ]
  }
 ],
 "metadata": {
  "kernelspec": {
   "display_name": "base",
   "language": "python",
   "name": "python3"
  },
  "language_info": {
   "codemirror_mode": {
    "name": "ipython",
    "version": 3
   },
   "file_extension": ".py",
   "mimetype": "text/x-python",
   "name": "python",
   "nbconvert_exporter": "python",
   "pygments_lexer": "ipython3",
   "version": "3.9.12"
  }
 },
 "nbformat": 4,
 "nbformat_minor": 2
}
