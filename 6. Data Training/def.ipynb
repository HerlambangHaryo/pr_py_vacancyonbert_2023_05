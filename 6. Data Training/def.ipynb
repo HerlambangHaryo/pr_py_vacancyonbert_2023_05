{
 "cells": [
  {
   "cell_type": "code",
   "execution_count": 1,
   "metadata": {},
   "outputs": [
    {
     "name": "stdout",
     "output_type": "stream",
     "text": [
      "                               text             bio_labels  \\\n",
      "0   John Smith bekerja di New York.  B-PER I-PER O B-LOC O   \n",
      "1  IBM adalah perusahaan teknologi.          B-ORG O O O O   \n",
      "2        Hari ini adalah 5 Oktober.    O O O B-DATE B-DATE   \n",
      "\n",
      "                                              tokens           labels  \n",
      "0   [john, smith, be, ##ker, ##ja, di, new, york, .]  [1, 2, 0, 3, 0]  \n",
      "1  [ibm, ada, ##lah, peru, ##sa, ##ha, ##an, te, ...  [5, 0, 0, 0, 0]  \n",
      "2  [hari, in, ##i, ada, ##lah, 5, ok, ##to, ##ber...  [0, 0, 0, 7, 7]  \n"
     ]
    }
   ],
   "source": [
    "import pandas as pd\n",
    "from transformers import BertTokenizer\n",
    "\n",
    "# Contoh dataset\n",
    "data = {\n",
    "    'text': [\"John Smith bekerja di New York.\", \"IBM adalah perusahaan teknologi.\", \"Hari ini adalah 5 Oktober.\"],\n",
    "    'bio_labels': [\"B-PER I-PER O B-LOC O\", \"B-ORG O O O O\", \"O O O B-DATE B-DATE\"]\n",
    "}\n",
    "\n",
    "df = pd.DataFrame(data)\n",
    "\n",
    "# Inisialisasi BERT tokenizer\n",
    "tokenizer = BertTokenizer.from_pretrained('bert-base-uncased')\n",
    "\n",
    "# Tokenisasi teks\n",
    "df['tokens'] = df['text'].apply(lambda x: tokenizer.tokenize(x))\n",
    "\n",
    "# Konversi label BIO ke angka\n",
    "label2id = {'O': 0, 'B-PER': 1, 'I-PER': 2, 'B-LOC': 3, 'I-LOC': 4, 'B-ORG': 5, 'I-ORG': 6, 'B-DATE': 7, 'I-DATE': 8}\n",
    "df['labels'] = df['bio_labels'].apply(lambda x: [label2id[label] for label in x.split()])\n",
    "\n",
    "# Contoh DataFrame setelah preprocessing\n",
    "print(df)\n"
   ]
  },
  {
   "cell_type": "code",
   "execution_count": 5,
   "metadata": {},
   "outputs": [
    {
     "ename": "SyntaxError",
     "evalue": "invalid syntax (10106917.py, line 1)",
     "output_type": "error",
     "traceback": [
      "\u001b[1;36m  Input \u001b[1;32mIn [5]\u001b[1;36m\u001b[0m\n\u001b[1;33m    doccano innit\u001b[0m\n\u001b[1;37m            ^\u001b[0m\n\u001b[1;31mSyntaxError\u001b[0m\u001b[1;31m:\u001b[0m invalid syntax\n"
     ]
    }
   ],
   "source": [
    "doccano innit\n",
    "\n"
   ]
  }
 ],
 "metadata": {
  "kernelspec": {
   "display_name": "base",
   "language": "python",
   "name": "python3"
  },
  "language_info": {
   "codemirror_mode": {
    "name": "ipython",
    "version": 3
   },
   "file_extension": ".py",
   "mimetype": "text/x-python",
   "name": "python",
   "nbconvert_exporter": "python",
   "pygments_lexer": "ipython3",
   "version": "3.9.12"
  }
 },
 "nbformat": 4,
 "nbformat_minor": 2
}
