{
 "cells": [
  {
   "cell_type": "code",
   "execution_count": 1,
   "id": "f284374a",
   "metadata": {},
   "outputs": [
    {
     "name": "stdout",
     "output_type": "stream",
     "text": [
      "u003Culu003Eu003Cliu003EMelakukan pengelolaan catatan keuangan baik harian, mingguan, maupun bulananu003Cu002Fliu003Eu003Cliu003EMelakukan penjurnalan dan verifikasi data keuanganu003Cu002Fliu003Eu003Cliu003EMemproses pembayaran melalui Swiftnet SAPu003Cu002Fliu003Eu003Cliu003EMembuat estimasi cash flow harianu003Cu002Fliu003Eu003Cliu003EMembuat rekap transaksiu003Cu002Fliu003Eu003Cliu003EMahir menggunakan program SAPu003Cu002Fliu003Eu003Cu002Fulu003Eu003Cpu003EKualifikasi :u003Cu002Fpu003Eu003Culu003Eu003Cliu003EPendidikan terakhir S1 Akuntansiu002FManagementu003Cu002Fliu003Eu003Cliu003EPengalaman kerja minimal 1 tahun di bidang yang sama (Diutamakan Industri Manufaktur)u003Cu002Fliu003Eu003Cliu003EMahir menggunakan aplikasi Microsoft Office ; terutama Ms. Excel, menjadi nilai lebihu003Cu002Fliu003Eu003Cliu003EMemiliki integritas tinggi, percaya diri, komunikatif, Inisiatif dan Pro-aktifu003Cu002Fliu003Eu003Cliu003EJujur, disipilin, teliti, bertanggung jawab dan mampu bekerja mandiri maupun dalam timu003Cu002Fliu003Eu003Cu002Fulu003E\n"
     ]
    }
   ],
   "source": [
    "# Mengimpor modul re\n",
    "import re\n",
    "\n",
    "# Membuat fungsi untuk membersihkan teks dari tag HTML\n",
    "def clean_html(text):\n",
    "  # Menggunakan metode re.sub() untuk mengganti semua tag HTML dengan string kosong\n",
    "  cleaned_text = re.sub(\"<[^>]+>\", \"\", text)\n",
    "  # Mengembalikan teks yang sudah dibersihkan\n",
    "  return cleaned_text\n",
    "\n",
    "# Memberikan parameter teks yang ingin dibersihkan\n",
    "text = \"u003Culu003Eu003Cliu003EMelakukan pengelolaan catatan keuangan baik harian, mingguan, maupun bulananu003Cu002Fliu003Eu003Cliu003EMelakukan penjurnalan dan verifikasi data keuanganu003Cu002Fliu003Eu003Cliu003EMemproses pembayaran melalui Swiftnet SAPu003Cu002Fliu003Eu003Cliu003EMembuat estimasi cash flow harianu003Cu002Fliu003Eu003Cliu003EMembuat rekap transaksiu003Cu002Fliu003Eu003Cliu003EMahir menggunakan program SAPu003Cu002Fliu003Eu003Cu002Fulu003Eu003Cpu003EKualifikasi :u003Cu002Fpu003Eu003Culu003Eu003Cliu003EPendidikan terakhir S1 Akuntansiu002FManagementu003Cu002Fliu003Eu003Cliu003EPengalaman kerja minimal 1 tahun di bidang yang sama (Diutamakan Industri Manufaktur)u003Cu002Fliu003Eu003Cliu003EMahir menggunakan aplikasi Microsoft Office ; terutama Ms. Excel, menjadi nilai lebihu003Cu002Fliu003Eu003Cliu003EMemiliki integritas tinggi, percaya diri, komunikatif, Inisiatif dan Pro-aktifu003Cu002Fliu003Eu003Cliu003EJujur, disipilin, teliti, bertanggung jawab dan mampu bekerja mandiri maupun dalam timu003Cu002Fliu003Eu003Cu002Fulu003E\"\n",
    "\n",
    "# Memanggil fungsi dengan parameter teks\n",
    "cleaned_text = clean_html(text)\n",
    "\n",
    "# Mencetak hasilnya\n",
    "print(cleaned_text)\n"
   ]
  },
  {
   "cell_type": "code",
   "execution_count": 3,
   "id": "ec4c3f9d",
   "metadata": {},
   "outputs": [
    {
     "name": "stdout",
     "output_type": "stream",
     "text": [
      "u003Culu003Eu003Cliu003EMelakukan pengelolaan catatan keuangan baik harian, mingguan, maupun bulananu003Cu002Fliu003Eu003Cliu003EMelakukan penjurnalan dan verifikasi data keuanganu003Cu002Fliu003Eu003Cliu003EMemproses pembayaran melalui Swiftnet SAPu003Cu002Fliu003Eu003Cliu003EMembuat estimasi cash flow harianu003Cu002Fliu003Eu003Cliu003EMembuat rekap transaksiu003Cu002Fliu003Eu003Cliu003EMahir menggunakan program SAPu003Cu002Fliu003Eu003Cu002Fulu003Eu003Cpu003EKualifikasi :u003Cu002Fpu003Eu003Culu003Eu003Cliu003EPendidikan terakhir S1 Akuntansiu002FManagementu003Cu002Fliu003Eu003Cliu003EPengalaman kerja minimal 1 tahun di bidang yang sama (Diutamakan Industri Manufaktur)u003Cu002Fliu003Eu003Cliu003EMahir menggunakan aplikasi Microsoft Office ; terutama Ms. Excel, menjadi nilai lebihu003Cu002Fliu003Eu003Cliu003EMemiliki integritas tinggi, percaya diri, komunikatif, Inisiatif dan Pro-aktifu003Cu002Fliu003Eu003Cliu003EJujur, disipilin, teliti, bertanggung jawab dan mampu bekerja mandiri maupun dalam timu003Cu002Fliu003Eu003Cu002Fulu003E\n"
     ]
    }
   ],
   "source": [
    "# Mengimpor modul re\n",
    "import re\n",
    "\n",
    "# Membuat fungsi untuk membersihkan teks dari tag HTML\n",
    "def clean_html(text):\n",
    "  # Menggunakan metode re.sub() untuk mengganti semua tag HTML dengan string kosong\n",
    "  cleaned_text = re.sub(\"<[^>]+>\", \"\", text)\n",
    "  # Mengganti semua tag </li> dengan \". \"\n",
    "  cleaned_text = cleaned_text.replace(\"</li>\", \". \")\n",
    "  # Mengembalikan teks yang sudah dibersihkan\n",
    "  return cleaned_text\n",
    "\n",
    "# Memberikan parameter teks yang ingin dibersihkan\n",
    "text = \"u003Culu003Eu003Cliu003EMelakukan pengelolaan catatan keuangan baik harian, mingguan, maupun bulananu003Cu002Fliu003Eu003Cliu003EMelakukan penjurnalan dan verifikasi data keuanganu003Cu002Fliu003Eu003Cliu003EMemproses pembayaran melalui Swiftnet SAPu003Cu002Fliu003Eu003Cliu003EMembuat estimasi cash flow harianu003Cu002Fliu003Eu003Cliu003EMembuat rekap transaksiu003Cu002Fliu003Eu003Cliu003EMahir menggunakan program SAPu003Cu002Fliu003Eu003Cu002Fulu003Eu003Cpu003EKualifikasi :u003Cu002Fpu003Eu003Culu003Eu003Cliu003EPendidikan terakhir S1 Akuntansiu002FManagementu003Cu002Fliu003Eu003Cliu003EPengalaman kerja minimal 1 tahun di bidang yang sama (Diutamakan Industri Manufaktur)u003Cu002Fliu003Eu003Cliu003EMahir menggunakan aplikasi Microsoft Office ; terutama Ms. Excel, menjadi nilai lebihu003Cu002Fliu003Eu003Cliu003EMemiliki integritas tinggi, percaya diri, komunikatif, Inisiatif dan Pro-aktifu003Cu002Fliu003Eu003Cliu003EJujur, disipilin, teliti, bertanggung jawab dan mampu bekerja mandiri maupun dalam timu003Cu002Fliu003Eu003Cu002Fulu003E\"\n",
    "\n",
    "# Memanggil fungsi dengan parameter teks\n",
    "cleaned_text = clean_html(text)\n",
    "\n",
    "# Mencetak hasilnya\n",
    "print(cleaned_text)\n"
   ]
  },
  {
   "cell_type": "code",
   "execution_count": 5,
   "id": "f1f11d8e",
   "metadata": {},
   "outputs": [
    {
     "name": "stdout",
     "output_type": "stream",
     "text": [
      "u003Culu003Eu003Cliu003EMelakukan pengelolaan catatan keuangan baik harian, mingguan, maupun bulananu003Cu002Fliu003Eu003Cliu003EMelakukan penjurnalan dan verifikasi data keuanganu003Cu002Fliu003Eu003Cliu003EMemproses pembayaran melalui Swiftnet SAPu003Cu002Fliu003Eu003Cliu003EMembuat estimasi cash flow harianu003Cu002Fliu003Eu003Cliu003EMembuat rekap transaksiu003Cu002Fliu003Eu003Cliu003EMahir menggunakan program SAPu003Cu002Fliu003Eu003Cu002Fulu003Eu003Cpu003EKualifikasi :u003Cu002Fpu003Eu003Culu003Eu003Cliu003EPendidikan terakhir S1 Akuntansiu002FManagementu003Cu002Fliu003Eu003Cliu003EPengalaman kerja minimal 1 tahun di bidang yang sama (Diutamakan Industri Manufaktur)u003Cu002Fliu003Eu003Cliu003EMahir menggunakan aplikasi Microsoft Office ; terutama Ms. Excel, menjadi nilai lebihu003Cu002Fliu003Eu003Cliu003EMemiliki integritas tinggi, percaya diri, komunikatif, Inisiatif dan Pro-aktifu003Cu002Fliu003Eu003Cliu003EJujur, disiplin, teliti, bertanggung jawab dan mampu bekerja mandiri maupun dalam timu003Cu002Fliu003Eu003Cu002Fulu003E\n"
     ]
    }
   ],
   "source": [
    "import re\n",
    "\n",
    "# Teks yang ingin dibersihkan\n",
    "teks = \"u003Culu003Eu003Cliu003EMelakukan pengelolaan catatan keuangan baik harian, mingguan, maupun bulananu003Cu002Fliu003Eu003Cliu003EMelakukan penjurnalan dan verifikasi data keuanganu003Cu002Fliu003Eu003Cliu003EMemproses pembayaran melalui Swiftnet SAPu003Cu002Fliu003Eu003Cliu003EMembuat estimasi cash flow harianu003Cu002Fliu003Eu003Cliu003EMembuat rekap transaksiu003Cu002Fliu003Eu003Cliu003EMahir menggunakan program SAPu003Cu002Fliu003Eu003Cu002Fulu003Eu003Cpu003EKualifikasi :u003Cu002Fpu003Eu003Culu003Eu003Cliu003EPendidikan terakhir S1 Akuntansiu002FManagementu003Cu002Fliu003Eu003Cliu003EPengalaman kerja minimal 1 tahun di bidang yang sama (Diutamakan Industri Manufaktur)u003Cu002Fliu003Eu003Cliu003EMahir menggunakan aplikasi Microsoft Office ; terutama Ms. Excel, menjadi nilai lebihu003Cu002Fliu003Eu003Cliu003EMemiliki integritas tinggi, percaya diri, komunikatif, Inisiatif dan Pro-aktifu003Cu002Fliu003Eu003Cliu003EJujur, disiplin, teliti, bertanggung jawab dan mampu bekerja mandiri maupun dalam timu003Cu002Fliu003Eu003Cu002Fulu003E\"\n",
    "\n",
    "# Menghapus tag HTML dengan menggunakan regex\n",
    "teks_bersih = re.sub(r'<.*?>', '', teks)\n",
    "\n",
    "# Mengganti </li> dengan \". \"\n",
    "teks_final = re.sub(r'</li>', '. ', teks_bersih)\n",
    "\n",
    "# Menampilkan hasil teks yang sudah dibersihkan dan diubah\n",
    "print(teks_final)\n"
   ]
  },
  {
   "cell_type": "code",
   "execution_count": 6,
   "id": "5e4fe054",
   "metadata": {},
   "outputs": [
    {
     "name": "stdout",
     "output_type": "stream",
     "text": [
      "u003Culu003Eu003Cliu003EMelakukan pengelolaan catatan keuangan baik harian, mingguan, maupun bulananu003Cu002Fliu003Eu003Cliu003EMelakukan penjurnalan dan verifikasi data keuanganu003Cu002Fliu003Eu003Cliu003EMemproses pembayaran melalui Swiftnet SAPu003Cu002Fliu003Eu003Cliu003EMembuat estimasi cash flow harianu003Cu002Fliu003Eu003Cliu003EMembuat rekap transaksiu003Cu002Fliu003Eu003Cliu003EMahir menggunakan program SAPu003Cu002Fliu003Eu003Cu002Fulu003Eu003Cpu003EKualifikasi :u003Cu002Fpu003Eu003Culu003Eu003Cliu003EPendidikan terakhir S1 Akuntansiu002FManagementu003Cu002Fliu003Eu003Cliu003EPengalaman kerja minimal 1 tahun di bidang yang sama (Diutamakan Industri Manufaktur)u003Cu002Fliu003Eu003Cliu003EMahir menggunakan aplikasi Microsoft Office ; terutama Ms. Excel, menjadi nilai lebihu003Cu002Fliu003Eu003Cliu003EMemiliki integritas tinggi, percaya diri, komunikatif, Inisiatif dan Pro-aktifu003Cu002Fliu003Eu003Cliu003EJujur, disipilin, teliti, bertanggung jawab dan mampu bekerja mandiri maupun dalam timu003Cu002Fliu003Eu003Cu002Fulu003E\n"
     ]
    }
   ],
   "source": [
    "import re\n",
    "\n",
    "# Teks yang ingin dibersihkan\n",
    "teks = \"u003Culu003Eu003Cliu003EMelakukan pengelolaan catatan keuangan baik harian, mingguan, maupun bulananu003Cu002Fliu003Eu003Cliu003EMelakukan penjurnalan dan verifikasi data keuanganu003Cu002Fliu003Eu003Cliu003EMemproses pembayaran melalui Swiftnet SAPu003Cu002Fliu003Eu003Cliu003EMembuat estimasi cash flow harianu003Cu002Fliu003Eu003Cliu003EMembuat rekap transaksiu003Cu002Fliu003Eu003Cliu003EMahir menggunakan program SAPu003Cu002Fliu003Eu003Cu002Fulu003Eu003Cpu003EKualifikasi :u003Cu002Fpu003Eu003Culu003Eu003Cliu003EPendidikan terakhir S1 Akuntansiu002FManagementu003Cu002Fliu003Eu003Cliu003EPengalaman kerja minimal 1 tahun di bidang yang sama (Diutamakan Industri Manufaktur)u003Cu002Fliu003Eu003Cliu003EMahir menggunakan aplikasi Microsoft Office ; terutama Ms. Excel, menjadi nilai lebihu003Cu002Fliu003Eu003Cliu003EMemiliki integritas tinggi, percaya diri, komunikatif, Inisiatif dan Pro-aktifu003Cu002Fliu003Eu003Cliu003EJujur, disipilin, teliti, bertanggung jawab dan mampu bekerja mandiri maupun dalam timu003Cu002Fliu003Eu003Cu002Fulu003E\"\n",
    "\n",
    "# Menghapus tag HTML dengan menggunakan regex\n",
    "teks_bersih = re.sub(r'<.*?>', '', teks)\n",
    "\n",
    "# Menampilkan hasil teks yang sudah dibersihkan\n",
    "print(teks_bersih)\n"
   ]
  },
  {
   "cell_type": "code",
   "execution_count": 7,
   "id": "cc777c15",
   "metadata": {},
   "outputs": [
    {
     "name": "stdout",
     "output_type": "stream",
     "text": [
      "u003Culu003Eu003Cliu003EMelakukan pengelolaan catatan keuangan baik harian, mingguan, maupun bulananu003C. u003Eu003Cliu003EMelakukan penjurnalan dan verifikasi data keuanganu003C. u003Eu003Cliu003EMemproses pembayaran melalui Swiftnet SAPu003C. u003Eu003Cliu003EMembuat estimasi cash flow harianu003C. u003Eu003Cliu003EMembuat rekap transaksiu003C. u003Eu003Cliu003EMahir menggunakan program SAPu003C. u003Eu003Cu002Fulu003Eu003Cpu003EKualifikasi :u003Cu002Fpu003Eu003Culu003Eu003Cliu003EPendidikan terakhir S1 Akuntansiu002FManagementu003C. u003Eu003Cliu003EPengalaman kerja minimal 1 tahun di bidang yang sama (Diutamakan Industri Manufaktur)u003C. u003Eu003Cliu003EMahir menggunakan aplikasi Microsoft Office ; terutama Ms. Excel, menjadi nilai lebihu003C. u003Eu003Cliu003EMemiliki integritas tinggi, percaya diri, komunikatif, Inisiatif dan Pro-aktifu003C. u003Eu003Cliu003EJujur, disiplin, teliti, bertanggung jawab dan mampu bekerja mandiri maupun dalam timu003C. u003Eu003Cu002Fulu003E\n"
     ]
    }
   ],
   "source": [
    "import re\n",
    "\n",
    "# Teks yang ingin dibersihkan\n",
    "teks = \"u003Culu003Eu003Cliu003EMelakukan pengelolaan catatan keuangan baik harian, mingguan, maupun bulananu003Cu002Fliu003Eu003Cliu003EMelakukan penjurnalan dan verifikasi data keuanganu003Cu002Fliu003Eu003Cliu003EMemproses pembayaran melalui Swiftnet SAPu003Cu002Fliu003Eu003Cliu003EMembuat estimasi cash flow harianu003Cu002Fliu003Eu003Cliu003EMembuat rekap transaksiu003Cu002Fliu003Eu003Cliu003EMahir menggunakan program SAPu003Cu002Fliu003Eu003Cu002Fulu003Eu003Cpu003EKualifikasi :u003Cu002Fpu003Eu003Culu003Eu003Cliu003EPendidikan terakhir S1 Akuntansiu002FManagementu003Cu002Fliu003Eu003Cliu003EPengalaman kerja minimal 1 tahun di bidang yang sama (Diutamakan Industri Manufaktur)u003Cu002Fliu003Eu003Cliu003EMahir menggunakan aplikasi Microsoft Office ; terutama Ms. Excel, menjadi nilai lebihu003Cu002Fliu003Eu003Cliu003EMemiliki integritas tinggi, percaya diri, komunikatif, Inisiatif dan Pro-aktifu003Cu002Fliu003Eu003Cliu003EJujur, disiplin, teliti, bertanggung jawab dan mampu bekerja mandiri maupun dalam timu003Cu002Fliu003Eu003Cu002Fulu003E\"\n",
    "\n",
    "# Menghapus tag HTML dengan menggunakan regex\n",
    "teks_bersih = re.sub(r'<.*?>', '', teks)\n",
    "\n",
    "# Mengganti </li> dengan \". \"\n",
    "teks_final = re.sub(r'u002Fli', '. ', teks_bersih)\n",
    "\n",
    "# Menampilkan hasil teks yang sudah dibersihkan dan diubah\n",
    "print(teks_final)\n",
    "\n"
   ]
  },
  {
   "cell_type": "code",
   "execution_count": 12,
   "id": "0cc331b7",
   "metadata": {},
   "outputs": [
    {
     "name": "stdout",
     "output_type": "stream",
     "text": [
      "<ul><li>\n"
     ]
    }
   ],
   "source": [
    "# Input string\n",
    "text = \"u003Culu003Eu003Cliu003E\"\n",
    "# Replace the string \"\\u003C\" with \"<\"\n",
    "text = text.replace(\"u003C\", \"<\")\n",
    "text = text.replace(\"u003E\", \">\")\n",
    "\n",
    "\n",
    "# Replace the string \"\\u002F\" with \">\"\n",
    "# text = text.replace(\"u002F\", \">\")\n",
    "# Output\n",
    "print(text)\n",
    "# <ul><li>\n"
   ]
  }
 ],
 "metadata": {
  "kernelspec": {
   "display_name": "Python 3 (ipykernel)",
   "language": "python",
   "name": "python3"
  },
  "language_info": {
   "codemirror_mode": {
    "name": "ipython",
    "version": 3
   },
   "file_extension": ".py",
   "mimetype": "text/x-python",
   "name": "python",
   "nbconvert_exporter": "python",
   "pygments_lexer": "ipython3",
   "version": "3.9.12"
  }
 },
 "nbformat": 4,
 "nbformat_minor": 5
}
