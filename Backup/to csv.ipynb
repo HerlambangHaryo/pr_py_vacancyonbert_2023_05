{
 "cells": [
  {
   "cell_type": "code",
   "execution_count": 2,
   "metadata": {},
   "outputs": [],
   "source": [
    "import pandas as pd\n",
    "import mysql.connector"
   ]
  },
  {
   "cell_type": "code",
   "execution_count": 4,
   "metadata": {},
   "outputs": [
    {
     "name": "stderr",
     "output_type": "stream",
     "text": [
      "c:\\Users\\ASUS\\anaconda3\\lib\\site-packages\\pandas\\io\\sql.py:761: UserWarning: pandas only support SQLAlchemy connectable(engine/connection) ordatabase string URI or sqlite3 DBAPI2 connectionother DBAPI2 objects are not tested, please consider using SQLAlchemy\n",
      "  warnings.warn(\n"
     ]
    },
    {
     "name": "stdout",
     "output_type": "stream",
     "text": [
      "Data saved to 'output_data.csv'\n"
     ]
    }
   ],
   "source": [
    "\n",
    "host=\"localhost\"\n",
    "user=\"root\" \n",
    "database=\"pr_scraping_job_vacancy_indonesia_2023_07\"\n",
    "mydb = mysql.connector.connect(host=host,user=user,password=\"\",database=database) \n",
    "\n",
    "\n",
    "query = \"Select \"\n",
    "query += \" *  \"   \n",
    "query += \" from jobstreet_raws_2023_07\" \n",
    "query += \" limit 10000 \"    \n",
    "\n",
    "\n",
    "df = pd.read_sql(query, mydb)\n",
    "\n",
    "# Save the DataFrame to a CSV file\n",
    "df.to_csv('jobstreet_raws_2023_07 - 10000.csv', index=False)\n",
    "\n",
    "print(\"Data saved to 'output_data.csv'\")\n"
   ]
  }
 ],
 "metadata": {
  "kernelspec": {
   "display_name": "base",
   "language": "python",
   "name": "python3"
  },
  "language_info": {
   "codemirror_mode": {
    "name": "ipython",
    "version": 3
   },
   "file_extension": ".py",
   "mimetype": "text/x-python",
   "name": "python",
   "nbconvert_exporter": "python",
   "pygments_lexer": "ipython3",
   "version": "3.9.12"
  }
 },
 "nbformat": 4,
 "nbformat_minor": 2
}
