{
 "cells": [
  {
   "cell_type": "code",
   "execution_count": null,
   "metadata": {},
   "outputs": [],
   "source": [
    "# Import\n",
    "import sys\n",
    "sys.path.append('../../../')\n",
    " \n",
    "from a_models.general import *   \n",
    " \n",
    "if __name__ == '__main__': \n",
    "    # --------------------------------------------------  \n",
    "    entity          = \"applyurl_url\"  \n",
    "    new_val         = \"applyurl\"\n",
    "    entity_new      = \"jobtitle\"\n",
    "    # -------------------------------------------------- \n",
    "    space = \"  __\" \n",
    "    # --------------------------------------------------  \n",
    "    last_idx = last_id_asc(entity, space)\n",
    "    # -------------------------------------------------- \n",
    "    space += \"__\" \n",
    "    # -------------------------------------------------- \n",
    "    migration_and_delete(last_idx, entity, entity_new, new_val, space)\n",
    "    # --------------------------------------------------   \n",
    "    ####################################################  "
   ]
  }
 ],
 "metadata": {
  "kernelspec": {
   "display_name": "base",
   "language": "python",
   "name": "python3"
  },
  "language_info": {
   "codemirror_mode": {
    "name": "ipython",
    "version": 3
   },
   "file_extension": ".py",
   "mimetype": "text/x-python",
   "name": "python",
   "nbconvert_exporter": "python",
   "pygments_lexer": "ipython3",
   "version": "3.9.12"
  }
 },
 "nbformat": 4,
 "nbformat_minor": 2
}
