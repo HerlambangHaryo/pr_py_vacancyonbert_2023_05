{
 "cells": [
  {
   "cell_type": "code",
   "execution_count": 5,
   "metadata": {},
   "outputs": [
    {
     "name": "stdout",
     "output_type": "stream",
     "text": [
      "  ____last_id()\n",
      "  ______Select  id   from jobdescription where label is null  order by id asc  limit 1 \n",
      "  ________Last ID:40001\n",
      "  ____pelabelan()\n",
      "  ______Select  id   , dataset   from jobdescription where id >= 40001  limit 10000 \n",
      "  ________Total Row(s) : 8673\n",
      "  __End\n"
     ]
    }
   ],
   "source": [
    "# Import\n",
    "import sys\n",
    "sys.path.append('../../../../')\n",
    " \n",
    "from a_models.general_laravel import *   \n",
    " \n",
    "if __name__ == '__main__': \n",
    "    # --------------------------------------------------  \n",
    "    entity  = \"jobtitle\"   \n",
    "    # -------------------------------------------------- \n",
    "    space = \"  __\"\n",
    "    # --------------------------------------------------\n",
    "    last_id_label = last_id(entity, 'label', space)  \n",
    "    # --------------------------------------------------  \n",
    "    pelabelan(entity, last_id_label, space)\n",
    "    # --------------------------------------------------    \n",
    "    print(space + \"End\")\n",
    "    ####################################################  "
   ]
  }
 ],
 "metadata": {
  "kernelspec": {
   "display_name": "base",
   "language": "python",
   "name": "python3"
  },
  "language_info": {
   "codemirror_mode": {
    "name": "ipython",
    "version": 3
   },
   "file_extension": ".py",
   "mimetype": "text/x-python",
   "name": "python",
   "nbconvert_exporter": "python",
   "pygments_lexer": "ipython3",
   "version": "3.9.12"
  }
 },
 "nbformat": 4,
 "nbformat_minor": 2
}
