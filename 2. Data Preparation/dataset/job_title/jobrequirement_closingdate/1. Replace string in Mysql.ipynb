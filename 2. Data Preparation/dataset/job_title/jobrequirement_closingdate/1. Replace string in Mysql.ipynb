{
 "cells": [
  {
   "cell_type": "code",
   "execution_count": 2,
   "metadata": {},
   "outputs": [
    {
     "name": "stdout",
     "output_type": "stream",
     "text": [
      "  ____updated_and_clean()\n",
      "  ____updated_and_clean()\n"
     ]
    }
   ],
   "source": [
    "# Import\n",
    "import sys\n",
    "sys.path.append('../../../../')\n",
    " \n",
    "from a_models.general import *   \n",
    " \n",
    "if __name__ == '__main__': \n",
    "    # --------------------------------------------------  \n",
    "    entity  = \"jobrequirement_closingdate\"   \n",
    "    # -------------------------------------------------- \n",
    "    space = \"  __\"\n",
    "    # --------------------------------------------------  \n",
    "    old_value    = 'T' \n",
    "    new_value    = ' '\n",
    "    updated_and_clean(entity, old_value, new_value, space)\n",
    "    # --------------------------------------------------  \n",
    "    old_value    = 'Z' \n",
    "    new_value    = ' '\n",
    "    updated_and_clean(entity, old_value, new_value, space)\n",
    "    # --------------------------------------------------   \n",
    "    ####################################################  "
   ]
  }
 ],
 "metadata": {
  "kernelspec": {
   "display_name": "base",
   "language": "python",
   "name": "python3"
  },
  "language_info": {
   "codemirror_mode": {
    "name": "ipython",
    "version": 3
   },
   "file_extension": ".py",
   "mimetype": "text/x-python",
   "name": "python",
   "nbconvert_exporter": "python",
   "pygments_lexer": "ipython3",
   "version": "3.9.12"
  }
 },
 "nbformat": 4,
 "nbformat_minor": 2
}
