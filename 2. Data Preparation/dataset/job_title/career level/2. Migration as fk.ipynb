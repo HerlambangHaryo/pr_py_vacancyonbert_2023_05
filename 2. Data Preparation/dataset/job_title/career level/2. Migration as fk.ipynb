{
 "cells": [
  {
   "cell_type": "code",
   "execution_count": 1,
   "metadata": {},
   "outputs": [
    {
     "name": "stdout",
     "output_type": "stream",
     "text": [
      "  ____migration_as_fk()\n",
      "  ______Select  name   from career_levels group by name  ORDER BY name ASC \n",
      "  ________Total Row(s) : 7\n",
      "  __________[1/7]  #1\n",
      "  ____________UPDATE `jobtitle` SET  `career_level_id`='1'  WHERE fk_id IN (SELECT fk_id FROM `career_levels` WHERE `name` LIKE '1')  \n"
     ]
    }
   ],
   "source": [
    "# Import\n",
    "import sys\n",
    "sys.path.append('../../../../')\n",
    " \n",
    "from a_models.general import *   \n",
    " \n",
    "if __name__ == '__main__': \n",
    "    # --------------------------------------------------  \n",
    "    entity      = \"career_levels\"   \n",
    "    entity_new  = \"jobtitle\"\n",
    "    attr        = \"career_level_id\"\n",
    "    # -------------------------------------------------- \n",
    "    space = \"  __\" \n",
    "    # --------------------------------------------------   \n",
    "    migration_as_fk(entity, entity_new, attr, space)\n",
    "    # --------------------------------------------------  \n",
    "    ####################################################  "
   ]
  }
 ],
 "metadata": {
  "kernelspec": {
   "display_name": "base",
   "language": "python",
   "name": "python3"
  },
  "language_info": {
   "codemirror_mode": {
    "name": "ipython",
    "version": 3
   },
   "file_extension": ".py",
   "mimetype": "text/x-python",
   "name": "python",
   "nbconvert_exporter": "python",
   "pygments_lexer": "ipython3",
   "version": "3.9.12"
  }
 },
 "nbformat": 4,
 "nbformat_minor": 2
}
