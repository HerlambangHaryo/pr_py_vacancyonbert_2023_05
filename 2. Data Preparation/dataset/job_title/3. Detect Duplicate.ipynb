{
 "cells": [
  {
   "cell_type": "code",
   "execution_count": 2,
   "metadata": {},
   "outputs": [
    {
     "name": "stdout",
     "output_type": "stream",
     "text": [
      "  ____progress()\n",
      "  ______total_rows()\n",
      "  ______Select  count(*) as counter  from `jobtitle` \n",
      "  ______fk_rows()\n",
      "  ______Select  count(*) as counter  From `jobtitle`  where jobtitle_id is not null \n",
      "  ____progress : 15.984221231483575\n",
      "  ____group_by_count_not_in_one()\n",
      "  ______Select  name   , count(name)   from jobtitle where jobtitle_id is null  group by name  having count(name) > 1  ORDER BY `count(name)` DESC  limit 50 \n",
      "  ________Total Row(s) : 50\n",
      "  __________[1/50]  #159 __ SALES MARKETING __ de __ PENJUALAN & PEMASARAN\n",
      "  __________[2/50]  #107 __ Sales Engineer __ af __ Insinyur Penjualan\n",
      "  __________[3/50]  #106 __ Staff Accounting __ en __ Akuntansi Staf\n",
      "  __________[4/50]  #100 __ Account Executive __ ro __ Eksekutif Akun\n",
      "  __________[5/50]  #100 __ Staff Toko __ de __ Staf Toko\n",
      "  __________[6/50]  #90 __ DIRECT SALES __ de __ PENJUALAN LANGSUNG\n",
      "  __________[7/50]  #89 __ TEKNISI __ vi __ Teknisi\n",
      "  __________[8/50]  #88 __ Staff Administrasi __ de __ Staf administrasi\n",
      "  __________[9/50]  #84 __ Crew Store __ en __ Toko Kru\n",
      "  __________[10/50]  #74 __ Sales Representative __ ca __ Perwakilan Penjualan\n",
      "  __________[11/50]  #71 __ Purchasing __ id __ Purchasing\n",
      "  __________[12/50]  #64 __ Staff Admin __ de __ Admin Staf\n",
      "  __________[13/50]  #62 __ kitchen crew __ en __ Awak Dapur\n",
      "  __________[14/50]  #54 __ Admin Sales __ et __ Penjualan Admin\n",
      "  __________[15/50]  #52 __ STAFF GUDANG __ de __ Staf Gudang\n",
      "  __________[16/50]  #51 __ Administrasi __ lt __ Administrasi\n",
      "  __________[17/50]  #47 __ BUSINESS DEVELOPMENT MANAGER __ de __ Manajer Pengembangan Bisnis\n",
      "  __________[18/50]  #46 __ Sales Counter __ en __ Konter penjualan\n",
      "  __________[19/50]  #43 __ Sales Admin __ et __ Administrasi Penjualan\n",
      "  __________[20/50]  #43 __ Business Development __ en __ Pengembangan Bisnis\n",
      "  __________[21/50]  #41 __ Engineering __ af __ Rekayasa\n",
      "  __________[22/50]  #40 __ Accounting Manager __ en __ Manajer Akuntansi\n",
      "  __________[23/50]  #39 __ SALES CONSULTANT __ en __ Konsultan Penjualan\n",
      "  __________[24/50]  #39 __ Crew Resto __ en __ CREW RESTO\n",
      "  __________[25/50]  #39 __ Account Officer __ en __ Petugas Akun\n",
      "  __________[26/50]  #38 __ DESIGN GRAFIS __ de __ Desain Grafi\n",
      "  __________[27/50]  #38 __ Staff Laundry __ de __ Binatu staf\n",
      "  __________[28/50]  #37 __ STAFF MARKETING __ de __ Pemasaran Staf\n",
      "  __________[29/50]  #37 __ Admin Staff __ de __ Staf administrasi\n",
      "  __________[30/50]  #37 __ Sales & Marketing __ no __ penjualan & Pemasaran\n",
      "  __________[31/50]  #34 __ Area Sales Executive __ ro __ Eksekutif Penjualan Area\n",
      "  __________[32/50]  #33 __ Admin Marketing __ tr __ Pemasaran Admin\n",
      "  __________[33/50]  #32 __ INTERNAL AUDIT __ tl __ AUDIT INTERNAL\n",
      "  __________[34/50]  #30 __ Legal Officer __ it __ Petugas Hukum\n",
      "  __________[35/50]  #29 __ Staff Purchasing __ de __ Pembelian Staf\n",
      "  __________[36/50]  #29 __ Operational Manager __ en __ Manajer Operasional\n",
      "  __________[37/50]  #29 __ Interior Designer __ da __ Interior desainer\n",
      "  __________[38/50]  #29 __ THERAPIST __ vi __ DOKTER\n",
      "  __________[39/50]  #29 __ Marketing Officer __ en __ Petugas Pemasaran\n",
      "  __________[40/50]  #28 __ FINANCE & ACCOUNTING MANAGER __ de __ Manajer Keuangan & Akuntansi\n",
      "  __________[41/50]  #28 __ Staff Finance __ en __ Keuangan Staf\n",
      "  __________[42/50]  #28 __ Admin Finance __ en __ Keuangan Admin\n",
      "  __________[43/50]  #28 __ RESTAURANT MANAGER __ en __ MANAJER RESTORAN\n",
      "  __________[44/50]  #28 __ Staff Kitchen __ de __ Dapur Staf\n",
      "  __________[45/50]  #28 __ KARYAWAN TOKO __ sw __ Karyawan Toko\n",
      "  __________[46/50]  #28 __ Auditor __ it __ Auditor\n",
      "  __________[47/50]  #27 __ HSE Officer __ en __ Petugas HSE\n",
      "  __________[48/50]  #27 __ Telesales __ et __ Telesales\n",
      "  __________[49/50]  #27 __ Marketing Communication __ en __ Komunikasi pemasaran\n",
      "  __________[50/50]  #27 __ English Teacher __ en __ Guru bahasa Inggris\n"
     ]
    }
   ],
   "source": [
    "# Import\n",
    "import sys\n",
    "sys.path.append('../../../')\n",
    " \n",
    "from a_models.general import *   \n",
    " \n",
    "if __name__ == '__main__': \n",
    "    # --------------------------------------------------  \n",
    "    entity  = \"jobtitle\" \n",
    "    space = \"  __\"\n",
    "    # -------------------------------------------------- \n",
    "    progress(entity, space)\n",
    "    # -------------------------------------------------- \n",
    "    group_by_count_not_in_one(entity, space)   \n",
    "    # --------------------------------------------------  \n",
    "    ####################################################  "
   ]
  }
 ],
 "metadata": {
  "kernelspec": {
   "display_name": "base",
   "language": "python",
   "name": "python3"
  },
  "language_info": {
   "codemirror_mode": {
    "name": "ipython",
    "version": 3
   },
   "file_extension": ".py",
   "mimetype": "text/x-python",
   "name": "python",
   "nbconvert_exporter": "python",
   "pygments_lexer": "ipython3",
   "version": "3.9.12"
  },
  "orig_nbformat": 4
 },
 "nbformat": 4,
 "nbformat_minor": 2
}
