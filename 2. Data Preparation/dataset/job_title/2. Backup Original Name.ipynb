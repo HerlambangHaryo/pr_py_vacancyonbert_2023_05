{
 "cells": [
  {
   "cell_type": "code",
   "execution_count": 1,
   "metadata": {},
   "outputs": [
    {
     "name": "stdout",
     "output_type": "stream",
     "text": [
      "  ____last_id()\n",
      "  ______Select  fk_id   from jobtitle where original_name is null  order by id asc  limit 1 \n",
      "  ________Last ID:0\n",
      "  ______backup_original_name()\n"
     ]
    }
   ],
   "source": [
    "# Import\n",
    "import sys\n",
    "sys.path.append('../../../')\n",
    " \n",
    "from a_models.general import *   \n",
    " \n",
    "if __name__ == '__main__': \n",
    "    # --------------------------------------------------  \n",
    "    entity  = \"jobtitle\" \n",
    "    attr    = \"original_name\" \n",
    "    # -------------------------------------------------- \n",
    "    space = \"  __\"\n",
    "    # -------------------------------------------------- \n",
    "    last_idx = last_id(entity, attr, space)   \n",
    "    # --------------------------------------------------  \n",
    "    space += \"__\"\n",
    "    # --------------------------------------------------  \n",
    "    backup_original_name(entity, space)\n",
    "    # --------------------------------------------------  \n",
    "    ####################################################  "
   ]
  }
 ],
 "metadata": {
  "kernelspec": {
   "display_name": "base",
   "language": "python",
   "name": "python3"
  },
  "language_info": {
   "codemirror_mode": {
    "name": "ipython",
    "version": 3
   },
   "file_extension": ".py",
   "mimetype": "text/x-python",
   "name": "python",
   "nbconvert_exporter": "python",
   "pygments_lexer": "ipython3",
   "version": "3.9.12"
  },
  "orig_nbformat": 4
 },
 "nbformat": 4,
 "nbformat_minor": 2
}
