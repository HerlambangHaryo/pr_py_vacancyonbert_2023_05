{
 "cells": [
  {
   "cell_type": "code",
   "execution_count": 4,
   "metadata": {},
   "outputs": [
    {
     "name": "stdout",
     "output_type": "stream",
     "text": [
      "  ____updated_and_clean()\n",
      "  ______Select  old   , new   from replace_strings \n",
      "  ________Total Row(s) : 1\n",
      "  __________[1/1]  #u002F __ /\n",
      "  ____updated_and_clean()\n"
     ]
    }
   ],
   "source": [
    "# Import\n",
    "import sys\n",
    "sys.path.append('../../../../')\n",
    " \n",
    "from a_models.general import *   \n",
    " \n",
    "if __name__ == '__main__': \n",
    "    # --------------------------------------------------  \n",
    "    entity  = \"applyurl_url\" \n",
    "    old_value    = 'url\":\"' \n",
    "    new_value    = ''\n",
    "    # -------------------------------------------------- \n",
    "    space = \"  __\"\n",
    "    # --------------------------------------------------  \n",
    "    updated_and_clean(entity, old_value, new_value, space)\n",
    "    # --------------------------------------------------  \n",
    "    update_clean_and_replace(entity, space)\n",
    "    # --------------------------------------------------  \n",
    "    old_value    = '\",\"isExternal\":false' \n",
    "    new_value    = '' \n",
    "    updated_and_clean(entity, old_value, new_value, space) \n",
    "    ####################################################  "
   ]
  }
 ],
 "metadata": {
  "kernelspec": {
   "display_name": "base",
   "language": "python",
   "name": "python3"
  },
  "language_info": {
   "codemirror_mode": {
    "name": "ipython",
    "version": 3
   },
   "file_extension": ".py",
   "mimetype": "text/x-python",
   "name": "python",
   "nbconvert_exporter": "python",
   "pygments_lexer": "ipython3",
   "version": "3.9.12"
  }
 },
 "nbformat": 4,
 "nbformat_minor": 2
}
