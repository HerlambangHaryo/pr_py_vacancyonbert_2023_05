{
 "cells": [
  {
   "cell_type": "code",
   "execution_count": 30,
   "metadata": {},
   "outputs": [
    {
     "name": "stdout",
     "output_type": "stream",
     "text": [
      "  ____updated_and_clean()\n",
      "  ______UPDATE `jobdescription` SET  `dataset`= REPLACE(dataset, '<div style=\"text-align:left\">', ' . ') \n",
      "  ____updated_and_clean()\n",
      "  ______UPDATE `jobdescription` SET  `dataset`= REPLACE(dataset, '<br />', ' . ') \n",
      "  __End\n"
     ]
    }
   ],
   "source": [
    "# Import\n",
    "import sys\n",
    "sys.path.append('../../../../')\n",
    " \n",
    "from a_models.general_laravel import *   \n",
    " \n",
    "if __name__ == '__main__': \n",
    "    # -------------------------------------------------- \n",
    "    space           = \"  __\"\n",
    "    # --------------------------------------------------  \n",
    "    entity          = \"jobdescription\"   \n",
    "    attr            = \"dataset\"\n",
    "    # --------------------------------------------------  \n",
    "    old_value_Array = [\n",
    "        # '</ul>',\n",
    "        # '<ul>',\n",
    "        # '</li>',\n",
    "        # '<li>',\n",
    "        # '</p>',\n",
    "        # '<p>',\n",
    "        # '</ol>',\n",
    "        # '<ol>',\n",
    "        # '</strong>',\n",
    "        # '<strong>',\n",
    "        # '</span>',\n",
    "        # '<span>',\n",
    "        # '</u>',\n",
    "        # '<u>',\n",
    "        # '</em>',\n",
    "        # '<em>',\n",
    "        # '</div>',\n",
    "        # '<div>',\n",
    "\n",
    "        # '</b>',\n",
    "        # '<b>',\n",
    "\n",
    "        # '<li style=\"margin-left:30px\">',\n",
    "        # '<div style=\"text-align:justify\">',\n",
    "        # '<li style=\"text-align:justify\">',\n",
    "        # '<p style=\"margin-left:30px\">',\n",
    "        # '<p style=\"margin-left:90px\">',\n",
    "        # '<p style=\"margin-left:60px\">',\n",
    "        # '<p style=\"margin-left:150px\">',\n",
    "        # '<p style=\"margin-left:120px\">',\n",
    "        # '<p style=\"margin-left:180px\">',\n",
    "        # '<li style=\"margin-left:60px\">',\n",
    "        # '<div style=\"color:rgb(28, 28, 28)\">',\n",
    "        # '<p style=\"color:rgb(28, 28, 28)\">',\n",
    "        # '<span style=\"color:rgb(28, 28, 28)\">',\n",
    "        # '<div style=\"color:rgb(51, 51, 51)\">',\n",
    "        # '<div style=\"color:rgb(20, 42, 91)\">',\n",
    "        # '<span style=\"color:rgb(20, 42, 91)\">',\n",
    "        # '<div style=\"color:rgb(0, 0, 0)\">',\n",
    "        # '<p style=\"color:rgb(51, 62, 73)\">',\n",
    "        # '<p style=\"color:rgb(102, 102, 102);text-align:justify\">',\n",
    "        # '<div style=\"color:rgb(121, 123, 124)\">',\n",
    "        # '<div style=\"color:rgb(32, 35, 37)\">',\n",
    "        '<div style=\"text-align:left\">',\n",
    "\n",
    "\n",
    "        '<br />'\n",
    "    ]  \n",
    "    # --------------------------------------------------  \n",
    "    new_value       = ' . '\n",
    "    # --------------------------------------------------  \n",
    "    for x in old_value_Array:\n",
    "        updated_and_clean(entity, attr, x, new_value, space) \n",
    "    # --------------------------------------------------   \n",
    "    print(space + \"End\", flush=True)\n",
    "    ####################################################  "
   ]
  }
 ],
 "metadata": {
  "kernelspec": {
   "display_name": "base",
   "language": "python",
   "name": "python3"
  },
  "language_info": {
   "codemirror_mode": {
    "name": "ipython",
    "version": 3
   },
   "file_extension": ".py",
   "mimetype": "text/x-python",
   "name": "python",
   "nbconvert_exporter": "python",
   "pygments_lexer": "ipython3",
   "version": "3.9.12"
  }
 },
 "nbformat": 4,
 "nbformat_minor": 2
}
