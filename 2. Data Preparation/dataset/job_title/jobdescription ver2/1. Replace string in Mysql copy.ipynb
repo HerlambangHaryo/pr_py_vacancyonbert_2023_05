{
 "cells": [
  {
   "cell_type": "code",
   "execution_count": 4,
   "metadata": {},
   "outputs": [
    {
     "name": "stdout",
     "output_type": "stream",
     "text": [
      "  ____updated_and_clean()\n",
      "  ______UPDATE `jobdescription` SET  `name`= REPLACE(name, '\"html\":\"', '') \n",
      "  ____updated_and_clean()\n",
      "  ______UPDATE `jobdescription` SET  `name`= REPLACE(name, 'u003C', '<') \n",
      "  ____updated_and_clean()\n",
      "  ______UPDATE `jobdescription` SET  `name`= REPLACE(name, 'u003E', '>') \n",
      "  ____updated_and_clean()\n",
      "  ______UPDATE `jobdescription` SET  `name`= REPLACE(name, 'u002F', '/') \n"
     ]
    }
   ],
   "source": [
    "# Import\n",
    "import sys\n",
    "sys.path.append('../../../../')\n",
    " \n",
    "from a_models.general_laravel import *   \n",
    " \n",
    "if __name__ == '__main__': \n",
    "    # -------------------------------------------------- \n",
    "    space           = \"  __\"\n",
    "    # --------------------------------------------------  \n",
    "    entity          = \"jobdescription\"   \n",
    "    attr            = \"name\"\n",
    "    # --------------------------------------------------  \n",
    "    old_value       = '\"html\":\"' \n",
    "    new_value       = ''\n",
    "    # --------------------------------------------------  \n",
    "    updated_and_clean(entity, attr, old_value, new_value, space)\n",
    "    # --------------------------------------------------  \n",
    "    old_value       = 'u003C' \n",
    "    new_value       = '<'\n",
    "    # --------------------------------------------------  \n",
    "    updated_and_clean(entity, attr, old_value, new_value, space)\n",
    "    # --------------------------------------------------  \n",
    "    old_value       = 'u003E' \n",
    "    new_value       = '>'\n",
    "    # --------------------------------------------------  \n",
    "    updated_and_clean(entity, attr, old_value, new_value, space)\n",
    "    # --------------------------------------------------  \n",
    "    old_value       = 'u002F' \n",
    "    new_value       = '/'\n",
    "    # --------------------------------------------------  \n",
    "    updated_and_clean(entity, attr, old_value, new_value, space)\n",
    "    # --------------------------------------------------   \n",
    "    ####################################################  "
   ]
  }
 ],
 "metadata": {
  "kernelspec": {
   "display_name": "base",
   "language": "python",
   "name": "python3"
  },
  "language_info": {
   "codemirror_mode": {
    "name": "ipython",
    "version": 3
   },
   "file_extension": ".py",
   "mimetype": "text/x-python",
   "name": "python",
   "nbconvert_exporter": "python",
   "pygments_lexer": "ipython3",
   "version": "3.9.12"
  }
 },
 "nbformat": 4,
 "nbformat_minor": 2
}
