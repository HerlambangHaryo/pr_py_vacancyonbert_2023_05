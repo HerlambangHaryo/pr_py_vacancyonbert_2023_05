{
 "cells": [
  {
   "cell_type": "code",
   "execution_count": 1,
   "metadata": {},
   "outputs": [
    {
     "name": "stdout",
     "output_type": "stream",
     "text": [
      "  ____updated_and_clean()\n",
      "  ______UPDATE `jobdescription` SET  `dataset`= REPLACE(dataset, '\"', ' . ') \n"
     ]
    }
   ],
   "source": [
    "# Import\n",
    "import sys\n",
    "sys.path.append('../../../../')\n",
    " \n",
    "from a_models.general_laravel import *   \n",
    " \n",
    "if __name__ == '__main__': \n",
    "    # -------------------------------------------------- \n",
    "    space           = \"  __\"\n",
    "    # --------------------------------------------------  \n",
    "    entity          = \"jobdescription\"   \n",
    "    attr            = \"dataset\"\n",
    "    # --------------------------------------------------   \n",
    "    old_value       = '\"' \n",
    "    new_value       = ' . '\n",
    "    # --------------------------------------------------  \n",
    "    updated_and_clean(entity, attr, old_value, new_value, space)\n",
    "    # --------------------------------------------------     \n",
    "    \n",
    "    # --------------------------------------------------   \n",
    "    ####################################################  "
   ]
  }
 ],
 "metadata": {
  "kernelspec": {
   "display_name": "base",
   "language": "python",
   "name": "python3"
  },
  "language_info": {
   "codemirror_mode": {
    "name": "ipython",
    "version": 3
   },
   "file_extension": ".py",
   "mimetype": "text/x-python",
   "name": "python",
   "nbconvert_exporter": "python",
   "pygments_lexer": "ipython3",
   "version": "3.9.12"
  }
 },
 "nbformat": 4,
 "nbformat_minor": 2
}
