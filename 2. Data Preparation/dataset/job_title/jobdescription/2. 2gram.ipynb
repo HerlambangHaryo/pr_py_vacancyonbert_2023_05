{
 "cells": [
  {
   "cell_type": "code",
   "execution_count": 1,
   "metadata": {},
   "outputs": [],
   "source": [
    "import collections\n",
    "import mysql.connector\n",
    "from nltk.tokenize import word_tokenize  # You may need to install NLTK and download resources\n",
    "from nltk.util import ngrams  # Import ngrams for creating bigrams\n",
    "\n",
    "# Sample text data (replace this with your actual data)\n",
    "host = \"localhost\"\n",
    "user = \"root\"\n",
    "database = \"pr_scraping_job_vacancy_indonesia_2023_07\"\n",
    "mydb = mysql.connector.connect(host=host, user=user, password=\"\", database=database)\n",
    "\n",
    "# ----------------------------------------------------------\n",
    "query = \"SELECT name FROM jobdescription\"\n",
    "# ----------------------------------------------------------\n",
    "\n",
    "mycursor = mydb.cursor()\n",
    "mycursor.execute(query)\n",
    "data = mycursor.fetchall()\n",
    "\n",
    "# Initialize a word frequency dictionary\n",
    "word_freq = collections.Counter()\n",
    "\n",
    "# Tokenize and create bigrams, then count word frequencies\n",
    "for row in data:\n",
    "    text = row[0]  # Extract the text from the first column of the row\n",
    "    tokens = word_tokenize(text)\n",
    "    bigrams = list(ngrams(tokens, 2))  # Create bigrams\n",
    "    word_freq.update(bigrams)  # Count bigram frequencies\n",
    "\n",
    "    \n",
    "# Get the most common words without any limit\n",
    "most_common_words = word_freq.most_common()\n"
   ]
  },
  {
   "cell_type": "code",
   "execution_count": 13,
   "metadata": {},
   "outputs": [
    {
     "name": "stdout",
     "output_type": "stream",
     "text": [
      "____last_id_desc()\n"
     ]
    },
    {
     "ename": "DatabaseError",
     "evalue": "2003 (HY000): Can't connect to MySQL server on 'localhost:3306' (10048)",
     "output_type": "error",
     "traceback": [
      "\u001b[1;31m---------------------------------------------------------------------------\u001b[0m",
      "\u001b[1;31mMySQLInterfaceError\u001b[0m                       Traceback (most recent call last)",
      "File \u001b[1;32mc:\\Users\\ASUS\\anaconda3\\lib\\site-packages\\mysql\\connector\\connection_cext.py:246\u001b[0m, in \u001b[0;36mCMySQLConnection._open_connection\u001b[1;34m(self)\u001b[0m\n\u001b[0;32m    245\u001b[0m \u001b[39mtry\u001b[39;00m:\n\u001b[1;32m--> 246\u001b[0m     \u001b[39mself\u001b[39m\u001b[39m.\u001b[39m_cmysql\u001b[39m.\u001b[39mconnect(\u001b[39m*\u001b[39m\u001b[39m*\u001b[39mcnx_kwargs)\n\u001b[0;32m    247\u001b[0m     \u001b[39mself\u001b[39m\u001b[39m.\u001b[39m_cmysql\u001b[39m.\u001b[39mconverter_str_fallback \u001b[39m=\u001b[39m \u001b[39mself\u001b[39m\u001b[39m.\u001b[39m_converter_str_fallback\n",
      "\u001b[1;31mMySQLInterfaceError\u001b[0m: Can't connect to MySQL server on 'localhost:3306' (10048)",
      "\nDuring handling of the above exception, another exception occurred:\n",
      "\u001b[1;31mDatabaseError\u001b[0m                             Traceback (most recent call last)",
      "\u001b[1;32mc:\\Users\\ASUS\\AryaDataAnalyst\\pr_py_vacancyonbert_2023_05\\2. Data Preparation\\dataset\\job_title\\jobdescription\\2. 2gram.ipynb Cell 2\u001b[0m line \u001b[0;36m<cell line: 13>\u001b[1;34m()\u001b[0m\n\u001b[0;32m     <a href='vscode-notebook-cell:/c%3A/Users/ASUS/AryaDataAnalyst/pr_py_vacancyonbert_2023_05/2.%20Data%20Preparation/dataset/job_title/jobdescription/2.%202gram.ipynb#W1sZmlsZQ%3D%3D?line=10'>11</a>\u001b[0m \u001b[39m# Define your limit and offset\u001b[39;00m\n\u001b[0;32m     <a href='vscode-notebook-cell:/c%3A/Users/ASUS/AryaDataAnalyst/pr_py_vacancyonbert_2023_05/2.%20Data%20Preparation/dataset/job_title/jobdescription/2.%202gram.ipynb#W1sZmlsZQ%3D%3D?line=11'>12</a>\u001b[0m limit \u001b[39m=\u001b[39m \u001b[39m1000\u001b[39m  \u001b[39m# Number of words you want to retrieve\u001b[39;00m\n\u001b[1;32m---> <a href='vscode-notebook-cell:/c%3A/Users/ASUS/AryaDataAnalyst/pr_py_vacancyonbert_2023_05/2.%20Data%20Preparation/dataset/job_title/jobdescription/2.%202gram.ipynb#W1sZmlsZQ%3D%3D?line=12'>13</a>\u001b[0m offset \u001b[39m=\u001b[39m last_id_desc(entity, space)  \u001b[39m# Number of words to skip\u001b[39;00m\n\u001b[0;32m     <a href='vscode-notebook-cell:/c%3A/Users/ASUS/AryaDataAnalyst/pr_py_vacancyonbert_2023_05/2.%20Data%20Preparation/dataset/job_title/jobdescription/2.%202gram.ipynb#W1sZmlsZQ%3D%3D?line=14'>15</a>\u001b[0m \u001b[39m# Use slicing to get the desired subset of words\u001b[39;00m\n\u001b[0;32m     <a href='vscode-notebook-cell:/c%3A/Users/ASUS/AryaDataAnalyst/pr_py_vacancyonbert_2023_05/2.%20Data%20Preparation/dataset/job_title/jobdescription/2.%202gram.ipynb#W1sZmlsZQ%3D%3D?line=15'>16</a>\u001b[0m subset_most_common_words \u001b[39m=\u001b[39m most_common_words[offset:offset\u001b[39m+\u001b[39mlimit]\n",
      "File \u001b[1;32mc:\\Users\\ASUS\\AryaDataAnalyst\\pr_py_vacancyonbert_2023_05\\2. Data Preparation\\dataset\\job_title\\jobdescription\\../../../..\\a_models\\general.py:59\u001b[0m, in \u001b[0;36mlast_id_desc\u001b[1;34m(entity, space)\u001b[0m\n\u001b[0;32m     57\u001b[0m user\u001b[39m=\u001b[39m\u001b[39m\"\u001b[39m\u001b[39mroot\u001b[39m\u001b[39m\"\u001b[39m \n\u001b[0;32m     58\u001b[0m database\u001b[39m=\u001b[39m\u001b[39m\"\u001b[39m\u001b[39mpr_scraping_job_vacancy_indonesia_2023_07\u001b[39m\u001b[39m\"\u001b[39m\n\u001b[1;32m---> 59\u001b[0m mydb \u001b[39m=\u001b[39m mysql\u001b[39m.\u001b[39;49mconnector\u001b[39m.\u001b[39;49mconnect(host\u001b[39m=\u001b[39;49mhost,user\u001b[39m=\u001b[39;49muser,password\u001b[39m=\u001b[39;49m\u001b[39m\"\u001b[39;49m\u001b[39m\"\u001b[39;49m,database\u001b[39m=\u001b[39;49mdatabase)\n\u001b[0;32m     60\u001b[0m \u001b[39m# ----------------------------------------------------------   \u001b[39;00m\n\u001b[0;32m     61\u001b[0m query \u001b[39m=\u001b[39m \u001b[39m\"\u001b[39m\u001b[39mSelect \u001b[39m\u001b[39m\"\u001b[39m\n",
      "File \u001b[1;32mc:\\Users\\ASUS\\anaconda3\\lib\\site-packages\\mysql\\connector\\__init__.py:272\u001b[0m, in \u001b[0;36mconnect\u001b[1;34m(*args, **kwargs)\u001b[0m\n\u001b[0;32m    269\u001b[0m         \u001b[39mraise\u001b[39;00m \u001b[39mImportError\u001b[39;00m(ERROR_NO_CEXT)\n\u001b[0;32m    271\u001b[0m \u001b[39mif\u001b[39;00m HAVE_CEXT \u001b[39mand\u001b[39;00m \u001b[39mnot\u001b[39;00m use_pure:\n\u001b[1;32m--> 272\u001b[0m     \u001b[39mreturn\u001b[39;00m CMySQLConnection(\u001b[39m*\u001b[39margs, \u001b[39m*\u001b[39m\u001b[39m*\u001b[39mkwargs)\n\u001b[0;32m    273\u001b[0m \u001b[39mreturn\u001b[39;00m MySQLConnection(\u001b[39m*\u001b[39margs, \u001b[39m*\u001b[39m\u001b[39m*\u001b[39mkwargs)\n",
      "File \u001b[1;32mc:\\Users\\ASUS\\anaconda3\\lib\\site-packages\\mysql\\connector\\connection_cext.py:94\u001b[0m, in \u001b[0;36mCMySQLConnection.__init__\u001b[1;34m(self, **kwargs)\u001b[0m\n\u001b[0;32m     91\u001b[0m \u001b[39msuper\u001b[39m(CMySQLConnection, \u001b[39mself\u001b[39m)\u001b[39m.\u001b[39m\u001b[39m__init__\u001b[39m(\u001b[39m*\u001b[39m\u001b[39m*\u001b[39mkwargs)\n\u001b[0;32m     93\u001b[0m \u001b[39mif\u001b[39;00m kwargs:\n\u001b[1;32m---> 94\u001b[0m     \u001b[39mself\u001b[39m\u001b[39m.\u001b[39mconnect(\u001b[39m*\u001b[39m\u001b[39m*\u001b[39mkwargs)\n",
      "File \u001b[1;32mc:\\Users\\ASUS\\anaconda3\\lib\\site-packages\\mysql\\connector\\abstracts.py:1052\u001b[0m, in \u001b[0;36mMySQLConnectionAbstract.connect\u001b[1;34m(self, **kwargs)\u001b[0m\n\u001b[0;32m   1049\u001b[0m     \u001b[39mself\u001b[39m\u001b[39m.\u001b[39mconfig(\u001b[39m*\u001b[39m\u001b[39m*\u001b[39mkwargs)\n\u001b[0;32m   1051\u001b[0m \u001b[39mself\u001b[39m\u001b[39m.\u001b[39mdisconnect()\n\u001b[1;32m-> 1052\u001b[0m \u001b[39mself\u001b[39;49m\u001b[39m.\u001b[39;49m_open_connection()\n\u001b[0;32m   1053\u001b[0m \u001b[39m# Server does not allow to run any other statement different from ALTER\u001b[39;00m\n\u001b[0;32m   1054\u001b[0m \u001b[39m# when user's password has been expired.\u001b[39;00m\n\u001b[0;32m   1055\u001b[0m \u001b[39mif\u001b[39;00m \u001b[39mnot\u001b[39;00m \u001b[39mself\u001b[39m\u001b[39m.\u001b[39m_client_flags \u001b[39m&\u001b[39m ClientFlag\u001b[39m.\u001b[39mCAN_HANDLE_EXPIRED_PASSWORDS:\n",
      "File \u001b[1;32mc:\\Users\\ASUS\\anaconda3\\lib\\site-packages\\mysql\\connector\\connection_cext.py:251\u001b[0m, in \u001b[0;36mCMySQLConnection._open_connection\u001b[1;34m(self)\u001b[0m\n\u001b[0;32m    249\u001b[0m         \u001b[39mself\u001b[39m\u001b[39m.\u001b[39mconverter\u001b[39m.\u001b[39mstr_fallback \u001b[39m=\u001b[39m \u001b[39mself\u001b[39m\u001b[39m.\u001b[39m_converter_str_fallback\n\u001b[0;32m    250\u001b[0m \u001b[39mexcept\u001b[39;00m MySQLInterfaceError \u001b[39mas\u001b[39;00m exc:\n\u001b[1;32m--> 251\u001b[0m     \u001b[39mraise\u001b[39;00m errors\u001b[39m.\u001b[39mget_mysql_exception(msg\u001b[39m=\u001b[39mexc\u001b[39m.\u001b[39mmsg, errno\u001b[39m=\u001b[39mexc\u001b[39m.\u001b[39merrno,\n\u001b[0;32m    252\u001b[0m                                      sqlstate\u001b[39m=\u001b[39mexc\u001b[39m.\u001b[39msqlstate)\n\u001b[0;32m    254\u001b[0m \u001b[39mself\u001b[39m\u001b[39m.\u001b[39m_do_handshake()\n",
      "\u001b[1;31mDatabaseError\u001b[0m: 2003 (HY000): Can't connect to MySQL server on 'localhost:3306' (10048)"
     ]
    }
   ],
   "source": [
    "# Import\n",
    "import sys\n",
    "sys.path.append('../../../../') \n",
    " \n",
    "from a_models.general import *   \n",
    "\n",
    "\n",
    "entity = \"jobdescription_2g\"\n",
    "space = \"__\"\n",
    "\n",
    "# Define your limit and offset\n",
    "limit = 1000  # Number of words you want to retrieve\n",
    "offset = last_id_desc(entity, space)  # Number of words to skip\n",
    "  \n",
    "# Use slicing to get the desired subset of words\n",
    "subset_most_common_words = most_common_words[offset:offset+limit]\n",
    "\n",
    "# Print the subset of words and their frequencies\n",
    "\n",
    "for bigram, freq in subset_most_common_words:\n",
    "    print(f\"{bigram}: {freq}\") \n",
    "    insert_token(entity, bigram, freq, space)\n",
    "print(\"end\")\n",
    "\n",
    " \n"
   ]
  }
 ],
 "metadata": {
  "kernelspec": {
   "display_name": "base",
   "language": "python",
   "name": "python3"
  },
  "language_info": {
   "codemirror_mode": {
    "name": "ipython",
    "version": 3
   },
   "file_extension": ".py",
   "mimetype": "text/x-python",
   "name": "python",
   "nbconvert_exporter": "python",
   "pygments_lexer": "ipython3",
   "version": "3.9.12"
  }
 },
 "nbformat": 4,
 "nbformat_minor": 2
}
