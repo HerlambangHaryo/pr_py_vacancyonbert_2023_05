{
 "cells": [
  {
   "cell_type": "code",
   "execution_count": null,
   "metadata": {},
   "outputs": [],
   "source": [
    "import collections\n",
    "import mysql.connector\n",
    "from nltk.tokenize import word_tokenize   \n",
    "\n",
    "# Sample text data (replace this with your actual data)\n",
    "host = \"localhost\"\n",
    "user = \"root\"\n",
    "database = \"pr_scraping_job_vacancy_indonesia_2023_07\"\n",
    "mydb = mysql.connector.connect(host=host, user=user, password=\"\", database=database)\n",
    "\n",
    "# ----------------------------------------------------------\n",
    "query = \"SELECT name FROM jobdescription  \"\n",
    "# ----------------------------------------------------------\n",
    "\n",
    "mycursor = mydb.cursor()\n",
    "mycursor.execute(query)\n",
    "data = mycursor.fetchall()\n",
    "\n",
    "# Initialize a word frequency dictionary\n",
    "word_freq = collections.Counter()\n",
    "\n",
    "# Tokenize and count word frequencies\n",
    "for row in data:\n",
    "    text = row[0]  # Extract the text from the first column of the row\n",
    "    tokens = word_tokenize(text)\n",
    "    word_freq.update(tokens)\n",
    "\n",
    "    \n",
    "# Get the most common words without any limit\n",
    "most_common_words = word_freq.most_common()"
   ]
  },
  {
   "cell_type": "code",
   "execution_count": null,
   "metadata": {},
   "outputs": [],
   "source": [
    "# Import\n",
    "import sys\n",
    "sys.path.append('../../../../') \n",
    " \n",
    "from a_models.general import *   \n",
    "\n",
    "\n",
    "entity = \"jobdescription_wc\"\n",
    "space = \"__\"\n",
    "\n",
    "# Define your limit and offset\n",
    "limit = 5000  # Number of words you want to retrieve\n",
    "offset = last_id_desc(entity, space)  # Number of words to skip\n",
    "  \n",
    "# Use slicing to get the desired subset of words\n",
    "subset_most_common_words = most_common_words[offset:offset+limit]\n",
    "\n",
    "# Print the subset of words and their frequencies\n",
    "for word, freq in subset_most_common_words:\n",
    "    print(f\"{word}: {freq}\")\n",
    "    insert_token(entity, word, freq, space)\n",
    "print(\"end\")"
   ]
  }
 ],
 "metadata": {
  "kernelspec": {
   "display_name": "base",
   "language": "python",
   "name": "python3"
  },
  "language_info": {
   "codemirror_mode": {
    "name": "ipython",
    "version": 3
   },
   "file_extension": ".py",
   "mimetype": "text/x-python",
   "name": "python",
   "nbconvert_exporter": "python",
   "pygments_lexer": "ipython3",
   "version": "3.9.12"
  }
 },
 "nbformat": 4,
 "nbformat_minor": 2
}
