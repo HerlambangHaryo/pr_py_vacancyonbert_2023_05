{
 "cells": [
  {
   "cell_type": "code",
   "execution_count": 1,
   "metadata": {},
   "outputs": [
    {
     "name": "stdout",
     "output_type": "stream",
     "text": [
      "  ____last_fk_id_desc()\n",
      "  ______Select  fk_id   from jobdescription_dataset order by fk_id desc  limit 1 \n",
      "  ________Last ID:3396\n",
      "  ______DELETE FROM `jobdescription_dataset` where fk_id = '3397'\n",
      "  ____token_jobdesc()\n",
      "  ______Select  fk_id   , name   from jobdescription where fk_id > 3396  and fk_id <= 5000 \n",
      "  ________Total Row(s) : 1604\n",
      "  __________[1000/1604]  #0 __ 2 __ O O O __ 30 + 13\n",
      "  __________[1000/1604]  #1000 __ 0 __ O __ Requirement\n",
      "  __________[1000/1604]  #2000 __ 6 __ O O O O O O O __ Ready to travel domestic and overseas intensively\n",
      "  __________[1000/1604]  #3000 __ 4 __ O O O O O __ Mampu bekerja di bawah tekanan\n",
      "  __________[1000/1604]  #4000 __ 0 __ O __ 5\n",
      "  __________[1000/1604]  #5000 __ 5 __ O O O O O O __ Menguasai laporan keuangan secara manual (Excel)\n",
      "  __________[1000/1604]  #6000 __ 1 __ O O __ Job Description\n",
      "  __________[1000/1604]  #7000 __ 7 __ O O O O O O O O __ Love working with children and interacting with parents\n",
      "  __________[1000/1604]  #8000 __ 0 __ O __ -\n",
      "  __________[1000/1604]  #9000 __ 1 __ O O __ Gaji Pokok\n",
      "  __________[1000/1604]  #10000 __ 0 __ O __ BENEFIT\n",
      "  __________[1000/1604]  #11000 __ 0 __ O __ 10\n",
      "  __________[1000/1604]  #12000 __ 4 __ O O O O O __ KITCHEN CREW - HAWKER BALI\n",
      "  __________[1000/1604]  #13000 __ 8 __ O O O O O O O O O __ Display meticulous attention to detail and precision in work\n",
      "  __________[1000/1604]  #14000 __ 3 __ O O O O __ Menguasai Microsoft Office (Ms\n",
      "  __________[1000/1604]  #15000 __ 4 __ O O O O O __ Sertifikasi dan pelatihan yang komprehensif\n",
      "  __________[1000/1604]  #16000 __ 15 __ O O O O O O O O O O O O O O O O __ At least 5 year(s) of working experience in the related field is required for this position\n",
      "  __________[1000/1604]  #17000 __ 1 __ O O __ Berperilaku baik\n",
      "  __________[1000/1604]  #18000 __ 1 __ O O __ Deskripsi Pekerjaan\n",
      "  __________[1000/1604]  #19000 __ 1 __ O O __ Menginput data\n",
      "  __________[1000/1604]  #20000 __ 13 __ O O O O O O O O O O O O O O __ Ensure reception area is tidy and presentable, with all necessary stationery and material (e\n",
      "  __________[1000/1604]  #21000 __ 3 __ O O O O __ Pelamar harus memiliki KTP\n",
      "  __________[1000/1604]  #22000 __ 3 __ O O O O __ - Fluent in English\n",
      "  __________[1000/1604]  #23000 __ 9 __ O O O O O O O O O O __ persyaratan kualifikasi bangunan dan fasilitas kritis baik dari acuan nasional\n",
      "  __________[1000/1604]  #24000 __ 0 __ O __ Kualifikasi\n",
      "  __________[1000/1604]  #25000 __ 0 __ O __ Requirements\n",
      "  __________[1000/1604]  #26000 __ 4 __ O O O O O __ 1 bulan 4 hari libur\n",
      "end\n"
     ]
    }
   ],
   "source": [
    "# Import\n",
    "import sys\n",
    "sys.path.append('../../../../')\n",
    " \n",
    "from a_models.general import *   \n",
    " \n",
    "if __name__ == '__main__': \n",
    "    # --------------------------------------------------  \n",
    "    entity  = \"jobdescription\"  \n",
    "    entity_new  = \"jobdescription_dataset\"  \n",
    "    # -------------------------------------------------- \n",
    "    space = \"  __\" \n",
    "    # --------------------------------------------------  \n",
    "    last_idx = last_fk_id_desc(entity_new, space)\n",
    "    # --------------------------------------------------  \n",
    "    delete_fk(entity_new, (last_idx + 1), space)\n",
    "    # --------------------------------------------------  \n",
    "    token_jobdesc(entity, last_idx, space)\n",
    "    # --------------------------------------------------   \n",
    "    print(\"end\")\n",
    "    # --------------------------------------------------  \n",
    "    ####################################################  "
   ]
  }
 ],
 "metadata": {
  "kernelspec": {
   "display_name": "base",
   "language": "python",
   "name": "python3"
  },
  "language_info": {
   "codemirror_mode": {
    "name": "ipython",
    "version": 3
   },
   "file_extension": ".py",
   "mimetype": "text/x-python",
   "name": "python",
   "nbconvert_exporter": "python",
   "pygments_lexer": "ipython3",
   "version": "3.9.12"
  }
 },
 "nbformat": 4,
 "nbformat_minor": 2
}
