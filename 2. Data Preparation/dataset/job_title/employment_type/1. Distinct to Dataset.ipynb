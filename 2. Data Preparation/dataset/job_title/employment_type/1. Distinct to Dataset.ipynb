{
 "cells": [
  {
   "cell_type": "code",
   "execution_count": 1,
   "metadata": {},
   "outputs": [
    {
     "name": "stdout",
     "output_type": "stream",
     "text": [
      "  ____distinct_to_datasetX()\n",
      "  ______Select  name   , count(*) as counter   from jobrequirement_employmenttypes where name is not null and name != 'null' and name != ''  group by name  ORDER BY count(*) desc, name ASC \n",
      "  ________Total Row(s) : 6\n",
      "  __________[1/6]  #Penuh Waktu\n",
      "  __________insert_wo_fk()\n",
      "  ____________INSERT INTO `dataset_employment_types` ( `nama`  ) VALUES (  'Penuh Waktu'  ) \n",
      "  __________last_id_desc()\n",
      "  ____________Select  id   from dataset_employment_types order by id desc  limit 1 \n",
      "  ______________Last ID:1\n",
      "  __________updated_data_dataset()\n",
      "  ____________UPDATE `employment_types` SET  `name`='1'  WHERE name = 'Penuh Waktu' \n",
      "\n",
      "\n",
      "  __________[2/6]  #Kontrak\n",
      "  __________insert_wo_fk()\n",
      "  ____________INSERT INTO `dataset_employment_types` ( `nama`  ) VALUES (  'Kontrak'  ) \n",
      "  __________last_id_desc()\n",
      "  ____________Select  id   from dataset_employment_types order by id desc  limit 1 \n",
      "  ______________Last ID:2\n",
      "  __________updated_data_dataset()\n",
      "  ____________UPDATE `employment_types` SET  `name`='2'  WHERE name = 'Kontrak' \n",
      "\n",
      "\n",
      "  __________[3/6]  #Tidak Terspesifikasi\n",
      "  __________insert_wo_fk()\n",
      "  ____________INSERT INTO `dataset_employment_types` ( `nama`  ) VALUES (  'Tidak Terspesifikasi'  ) \n",
      "  __________last_id_desc()\n",
      "  ____________Select  id   from dataset_employment_types order by id desc  limit 1 \n",
      "  ______________Last ID:3\n",
      "  __________updated_data_dataset()\n",
      "  ____________UPDATE `employment_types` SET  `name`='3'  WHERE name = 'Tidak Terspesifikasi' \n",
      "\n",
      "\n",
      "  __________[4/6]  #Paruh Waktu\n",
      "  __________insert_wo_fk()\n",
      "  ____________INSERT INTO `dataset_employment_types` ( `nama`  ) VALUES (  'Paruh Waktu'  ) \n",
      "  __________last_id_desc()\n",
      "  ____________Select  id   from dataset_employment_types order by id desc  limit 1 \n",
      "  ______________Last ID:4\n",
      "  __________updated_data_dataset()\n",
      "  ____________UPDATE `employment_types` SET  `name`='4'  WHERE name = 'Paruh Waktu' \n",
      "\n",
      "\n",
      "  __________[5/6]  #Magang\n",
      "  __________insert_wo_fk()\n",
      "  ____________INSERT INTO `dataset_employment_types` ( `nama`  ) VALUES (  'Magang'  ) \n",
      "  __________last_id_desc()\n",
      "  ____________Select  id   from dataset_employment_types order by id desc  limit 1 \n",
      "  ______________Last ID:5\n",
      "  __________updated_data_dataset()\n",
      "  ____________UPDATE `employment_types` SET  `name`='5'  WHERE name = 'Magang' \n",
      "\n",
      "\n",
      "  __________[6/6]  #Temporer\n",
      "  __________insert_wo_fk()\n",
      "  ____________INSERT INTO `dataset_employment_types` ( `nama`  ) VALUES (  'Temporer'  ) \n",
      "  __________last_id_desc()\n",
      "  ____________Select  id   from dataset_employment_types order by id desc  limit 1 \n",
      "  ______________Last ID:6\n",
      "  __________updated_data_dataset()\n",
      "  ____________UPDATE `employment_types` SET  `name`='6'  WHERE name = 'Temporer' \n",
      "\n",
      "\n"
     ]
    }
   ],
   "source": [
    "# Import\n",
    "import sys\n",
    "sys.path.append('../../../../')\n",
    " \n",
    "from a_models.general import *   \n",
    " \n",
    "if __name__ == '__main__': \n",
    "    # --------------------------------------------------  \n",
    "    entity  = \"employment_types\"   \n",
    "    # -------------------------------------------------- \n",
    "    space = \"  __\" \n",
    "    # --------------------------------------------------  \n",
    "    distinct_to_datasetX(entity, space)\n",
    "    # --------------------------------------------------  \n",
    "    ####################################################  "
   ]
  }
 ],
 "metadata": {
  "kernelspec": {
   "display_name": "base",
   "language": "python",
   "name": "python3"
  },
  "language_info": {
   "codemirror_mode": {
    "name": "ipython",
    "version": 3
   },
   "file_extension": ".py",
   "mimetype": "text/x-python",
   "name": "python",
   "nbconvert_exporter": "python",
   "pygments_lexer": "ipython3",
   "version": "3.9.12"
  }
 },
 "nbformat": 4,
 "nbformat_minor": 2
}
