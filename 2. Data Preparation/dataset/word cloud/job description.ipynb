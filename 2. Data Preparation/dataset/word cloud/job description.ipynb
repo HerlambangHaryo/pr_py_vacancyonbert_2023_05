{
 "cells": [
  {
   "cell_type": "code",
   "execution_count": 5,
   "metadata": {},
   "outputs": [],
   "source": [
    "from wordcloud import WordCloud\n",
    "word = 'halo aku disini. sedang bermain komputer sambil menonton tv. kamu sedang apa? aku disini baik baik saja'\n",
    "wordcloud = WordCloud().generate(word)"
   ]
  },
  {
   "cell_type": "code",
   "execution_count": 6,
   "metadata": {},
   "outputs": [
    {
     "name": "stdout",
     "output_type": "stream",
     "text": [
      "aku 1.0\n",
      "disini 1.0\n",
      "sedang 1.0\n",
      "baik 1.0\n",
      "halo 0.5\n",
      "bermain 0.5\n",
      "komputer 0.5\n",
      "sambil 0.5\n",
      "menonton 0.5\n",
      "tv 0.5\n",
      "kamu 0.5\n",
      "apa 0.5\n",
      "saja 0.5\n"
     ]
    }
   ],
   "source": [
    "# Get the words and frequencies from the word cloud object\n",
    "words_freqs = wordcloud.words_\n",
    "# Sort the dictionary by values in reverse order\n",
    "sorted_words_freqs = sorted(words_freqs.items(), key=lambda x: x[1], reverse=True)\n",
    "# Print the words and frequencies\n",
    "for word, freq in sorted_words_freqs:\n",
    "    print(word, freq)"
   ]
  }
 ],
 "metadata": {
  "kernelspec": {
   "display_name": "base",
   "language": "python",
   "name": "python3"
  },
  "language_info": {
   "codemirror_mode": {
    "name": "ipython",
    "version": 3
   },
   "file_extension": ".py",
   "mimetype": "text/x-python",
   "name": "python",
   "nbconvert_exporter": "python",
   "pygments_lexer": "ipython3",
   "version": "3.9.12"
  }
 },
 "nbformat": 4,
 "nbformat_minor": 2
}
