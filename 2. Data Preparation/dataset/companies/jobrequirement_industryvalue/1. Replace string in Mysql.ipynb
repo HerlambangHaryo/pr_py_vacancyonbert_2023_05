{
 "cells": [
  {
   "cell_type": "code",
   "execution_count": 2,
   "metadata": {},
   "outputs": [
    {
     "name": "stdout",
     "output_type": "stream",
     "text": [
      "  ______Select  old   , new   from replace_strings \n",
      "  ________Total Row(s) : 21\n",
      "  __________[1/21]  #u002F __ /\n",
      "  __________updated_and_clean()\n",
      "  __________[2/21]  #u003C __ <\n",
      "  __________updated_and_clean()\n",
      "  __________[3/21]  #u003E __ >\n",
      "  __________updated_and_clean()\n",
      "  __________[4/21]  #</li> __  \n",
      "  __________updated_and_clean()\n",
      "  __________[5/21]  #</ul> __  \n",
      "  __________updated_and_clean()\n",
      "  __________[6/21]  #<ul> __  \n",
      "  __________updated_and_clean()\n",
      "  __________[7/21]  #<li> __  \n",
      "  __________updated_and_clean()\n",
      "  __________[8/21]  #</p> __  \n",
      "  __________updated_and_clean()\n",
      "  __________[9/21]  #<p> __  \n",
      "  __________updated_and_clean()\n",
      "  __________[10/21]  #</ol> __  \n",
      "  __________updated_and_clean()\n",
      "  __________[11/21]  #<ol> __  \n",
      "  __________updated_and_clean()\n",
      "  __________[12/21]  #</strong> __  \n",
      "  __________updated_and_clean()\n",
      "  __________[13/21]  #<strong> __  \n",
      "  __________updated_and_clean()\n",
      "  __________[14/21]  #</u> __  \n",
      "  __________updated_and_clean()\n",
      "  __________[15/21]  #<u> __  \n",
      "  __________updated_and_clean()\n",
      "  __________[16/21]  #</div> __  \n",
      "  __________updated_and_clean()\n",
      "  __________[17/21]  #<div> __  \n",
      "  __________updated_and_clean()\n",
      "  __________[18/21]  #</b> __  \n",
      "  __________updated_and_clean()\n",
      "  __________[19/21]  #<b> __  \n",
      "  __________updated_and_clean()\n",
      "  __________[20/21]  #<br /> __  \n",
      "  __________updated_and_clean()\n",
      "  __________[21/21]  #&amp; __  & \n",
      "  __________updated_and_clean()\n"
     ]
    }
   ],
   "source": [
    "# Import\n",
    "import sys\n",
    "sys.path.append('../../../../')\n",
    " \n",
    "from a_models.general import *   \n",
    " \n",
    "if __name__ == '__main__': \n",
    "    # --------------------------------------------------  \n",
    "    entity  = \"jobrequirement_industryvalues\"  \n",
    "    # -------------------------------------------------- \n",
    "    space = \"  __\" \n",
    "    # --------------------------------------------------  \n",
    "    update_clean_and_replace(entity, space)\n",
    "    # --------------------------------------------------   \n",
    "    ####################################################  "
   ]
  }
 ],
 "metadata": {
  "kernelspec": {
   "display_name": "base",
   "language": "python",
   "name": "python3"
  },
  "language_info": {
   "codemirror_mode": {
    "name": "ipython",
    "version": 3
   },
   "file_extension": ".py",
   "mimetype": "text/x-python",
   "name": "python",
   "nbconvert_exporter": "python",
   "pygments_lexer": "ipython3",
   "version": "3.9.12"
  }
 },
 "nbformat": 4,
 "nbformat_minor": 2
}
