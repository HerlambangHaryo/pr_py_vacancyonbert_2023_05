{
 "cells": [
  {
   "cell_type": "code",
   "execution_count": 1,
   "metadata": {},
   "outputs": [
    {
     "name": "stdout",
     "output_type": "stream",
     "text": [
      "  ____delete_zonk()\n",
      "  ______DELETE FROM `company_size` where name is null or name = 'null'\n",
      "  ____last_id_asc()\n",
      "  ______Select  id   from company_size order by id asc  limit 1 \n",
      "  ________Last ID:0\n",
      "  ______Select  name   , fk_id   from company_size where id > 0 limit 5000 \n",
      "  ________Total Row(s) : 0\n"
     ]
    }
   ],
   "source": [
    "# Import\n",
    "import sys\n",
    "sys.path.append('../../../../')\n",
    " \n",
    "from a_models.general import *   \n",
    " \n",
    "if __name__ == '__main__': \n",
    "    # --------------------------------------------------  \n",
    "    entity  = \"company_size\"   \n",
    "    entity_new = \"companies_temp\"\n",
    "    # -------------------------------------------------- \n",
    "    space = \"  __\" \n",
    "    # --------------------------------------------------  \n",
    "    delete_zonk(entity, space)\n",
    "    # --------------------------------------------------  \n",
    "    last_idx = last_id_asc(entity, space)\n",
    "    # --------------------------------------------------  \n",
    "    update_and_delete(entity_new, entity, last_idx, space)\n",
    "    # --------------------------------------------------  \n",
    "    ####################################################  "
   ]
  }
 ],
 "metadata": {
  "kernelspec": {
   "display_name": "base",
   "language": "python",
   "name": "python3"
  },
  "language_info": {
   "codemirror_mode": {
    "name": "ipython",
    "version": 3
   },
   "file_extension": ".py",
   "mimetype": "text/x-python",
   "name": "python",
   "nbconvert_exporter": "python",
   "pygments_lexer": "ipython3",
   "version": "3.9.12"
  }
 },
 "nbformat": 4,
 "nbformat_minor": 2
}
