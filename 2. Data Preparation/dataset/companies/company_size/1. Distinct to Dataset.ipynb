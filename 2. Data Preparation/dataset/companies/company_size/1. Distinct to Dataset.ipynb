{
 "cells": [
  {
   "cell_type": "code",
   "execution_count": 1,
   "metadata": {},
   "outputs": [
    {
     "name": "stdout",
     "output_type": "stream",
     "text": [
      "  ____distinct_to_dataset()\n",
      "  ______Select  name   from company_size where name is not null and name != 'null'  group by name  ORDER BY name ASC \n",
      "  ________Total Row(s) : 7\n",
      "  __________[1/7]  #1- 50 pekerja\n",
      "  __________insert_wo_fk()\n",
      "  ____________INSERT INTO `dataset_company_size` ( `nama`  ) VALUES (  '1- 50 pekerja'  ) \n",
      "  __________last_id_desc()\n",
      "  ____________Select  id   from dataset_company_size order by id desc  limit 1 \n",
      "  ______________Last ID:1\n",
      "  __________updated_data_dataset()\n",
      "  ____________UPDATE `company_size` SET  `name`='1'  WHERE name = '1- 50 pekerja' \n",
      "  __________[2/7]  #1001 - 2000 pekerja\n",
      "  __________insert_wo_fk()\n",
      "  ____________INSERT INTO `dataset_company_size` ( `nama`  ) VALUES (  '1001 - 2000 pekerja'  ) \n",
      "  __________last_id_desc()\n",
      "  ____________Select  id   from dataset_company_size order by id desc  limit 1 \n",
      "  ______________Last ID:2\n",
      "  __________updated_data_dataset()\n",
      "  ____________UPDATE `company_size` SET  `name`='2'  WHERE name = '1001 - 2000 pekerja' \n",
      "  __________[3/7]  #2001 - 5000 pekerja\n",
      "  __________insert_wo_fk()\n",
      "  ____________INSERT INTO `dataset_company_size` ( `nama`  ) VALUES (  '2001 - 5000 pekerja'  ) \n",
      "  __________last_id_desc()\n",
      "  ____________Select  id   from dataset_company_size order by id desc  limit 1 \n",
      "  ______________Last ID:3\n",
      "  __________updated_data_dataset()\n",
      "  ____________UPDATE `company_size` SET  `name`='3'  WHERE name = '2001 - 5000 pekerja' \n",
      "  __________[4/7]  #201 - 500 pekerja\n",
      "  __________insert_wo_fk()\n",
      "  ____________INSERT INTO `dataset_company_size` ( `nama`  ) VALUES (  '201 - 500 pekerja'  ) \n",
      "  __________last_id_desc()\n",
      "  ____________Select  id   from dataset_company_size order by id desc  limit 1 \n",
      "  ______________Last ID:4\n",
      "  __________updated_data_dataset()\n",
      "  ____________UPDATE `company_size` SET  `name`='4'  WHERE name = '201 - 500 pekerja' \n",
      "  __________[5/7]  #501 - 1000 pekerja\n",
      "  __________insert_wo_fk()\n",
      "  ____________INSERT INTO `dataset_company_size` ( `nama`  ) VALUES (  '501 - 1000 pekerja'  ) \n",
      "  __________last_id_desc()\n",
      "  ____________Select  id   from dataset_company_size order by id desc  limit 1 \n",
      "  ______________Last ID:5\n",
      "  __________updated_data_dataset()\n",
      "  ____________UPDATE `company_size` SET  `name`='5'  WHERE name = '501 - 1000 pekerja' \n",
      "  __________[6/7]  #51 - 200 pekerja\n",
      "  __________insert_wo_fk()\n",
      "  ____________INSERT INTO `dataset_company_size` ( `nama`  ) VALUES (  '51 - 200 pekerja'  ) \n",
      "  __________last_id_desc()\n",
      "  ____________Select  id   from dataset_company_size order by id desc  limit 1 \n",
      "  ______________Last ID:6\n",
      "  __________updated_data_dataset()\n",
      "  ____________UPDATE `company_size` SET  `name`='6'  WHERE name = '51 - 200 pekerja' \n",
      "  __________[7/7]  #Lebih dari 5000 pekerja\n",
      "  __________insert_wo_fk()\n",
      "  ____________INSERT INTO `dataset_company_size` ( `nama`  ) VALUES (  'Lebih dari 5000 pekerja'  ) \n",
      "  __________last_id_desc()\n",
      "  ____________Select  id   from dataset_company_size order by id desc  limit 1 \n",
      "  ______________Last ID:7\n",
      "  __________updated_data_dataset()\n",
      "  ____________UPDATE `company_size` SET  `name`='7'  WHERE name = 'Lebih dari 5000 pekerja' \n"
     ]
    }
   ],
   "source": [
    "# Import\n",
    "import sys\n",
    "sys.path.append('../../../../')\n",
    " \n",
    "from a_models.general import *   \n",
    " \n",
    "if __name__ == '__main__': \n",
    "    # --------------------------------------------------  \n",
    "    entity  = \"company_size\"   \n",
    "    # -------------------------------------------------- \n",
    "    space = \"  __\" \n",
    "    # --------------------------------------------------  \n",
    "    distinct_to_dataset(entity, space)\n",
    "    # --------------------------------------------------  \n",
    "    ####################################################  "
   ]
  }
 ],
 "metadata": {
  "kernelspec": {
   "display_name": "base",
   "language": "python",
   "name": "python3"
  },
  "language_info": {
   "codemirror_mode": {
    "name": "ipython",
    "version": 3
   },
   "file_extension": ".py",
   "mimetype": "text/x-python",
   "name": "python",
   "nbconvert_exporter": "python",
   "pygments_lexer": "ipython3",
   "version": "3.9.12"
  }
 },
 "nbformat": 4,
 "nbformat_minor": 2
}
