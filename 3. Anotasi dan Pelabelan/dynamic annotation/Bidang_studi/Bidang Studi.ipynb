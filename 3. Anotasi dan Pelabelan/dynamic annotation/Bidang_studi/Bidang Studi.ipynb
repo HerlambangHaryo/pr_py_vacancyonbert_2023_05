{
 "cells": [
  {
   "cell_type": "code",
   "execution_count": 1,
   "metadata": {},
   "outputs": [
    {
     "name": "stdout",
     "output_type": "stream",
     "text": [
      "  ____wildcard()\n",
      "  ______Select  id  , dataset  , label  from jobdescription where dataset like '%Teknik Sipil / Arsitek%'  and done is null \n",
      "  ________Total Row(s) : 74\n",
      "  ________ner length: 4\n",
      "  ________label length: 4\n",
      "End\n"
     ]
    }
   ],
   "source": [
    "# Import\n",
    "import sys\n",
    "sys.path.append('../../../')\n",
    " \n",
    "from a_models.annotation_laravel import *   \n",
    " \n",
    "if __name__ == '__main__': \n",
    "    # --------------------------------------------------  \n",
    "    entity      = \"jobdescription\"  \n",
    "    ner         = \"Teknik Sipil / Arsitek\"   \n",
    "    label       = \"B-Bidang_studi I-Bidang_studi I-Bidang_studi I-Bidang_studi\"  \n",
    "    entitas     = \"bidang_studi\"  \n",
    "    update      = \"yes\"  \n",
    "    printx      = \"no\"  \n",
    "    # -------------------------------------------------- \n",
    "    space = \"  __\" \n",
    "    # --------------------------------------------------  \n",
    "    wildcard(entity, ner, label, entitas, update, printx, space)\n",
    "    # --------------------------------------------------   \n",
    "    print(\"End\") \n",
    "    ####################################################  "
   ]
  },
  {
   "cell_type": "code",
   "execution_count": 2,
   "metadata": {},
   "outputs": [
    {
     "name": "stdout",
     "output_type": "stream",
     "text": [
      "  ____wildcard()\n",
      "  ______Select  id  , dataset  , label  from jobdescription where dataset like '%Teknologi Pangan%'  and done is null \n",
      "  ________Total Row(s) : 109\n",
      "  ________ner length: 2\n",
      "  ________label length: 2\n",
      "End\n"
     ]
    }
   ],
   "source": [
    "# Import\n",
    "import sys\n",
    "sys.path.append('../../../')\n",
    " \n",
    "from a_models.annotation_laravel import *   \n",
    " \n",
    "if __name__ == '__main__': \n",
    "    # --------------------------------------------------  \n",
    "    entity      = \"jobdescription\"  \n",
    "    ner         = \"Teknologi Pangan\"   \n",
    "    label       = \"B-Bidang_studi I-Bidang_studi\"  \n",
    "    entitas     = \"bidang_studi\"  \n",
    "    update      = \"yes\"  \n",
    "    printx      = \"no\"  \n",
    "    # -------------------------------------------------- \n",
    "    space = \"  __\" \n",
    "    # --------------------------------------------------  \n",
    "    wildcard(entity, ner, label, entitas, update, printx, space)\n",
    "    # --------------------------------------------------   \n",
    "    print(\"End\") \n",
    "    ####################################################  "
   ]
  }
 ],
 "metadata": {
  "kernelspec": {
   "display_name": "base",
   "language": "python",
   "name": "python3"
  },
  "language_info": {
   "codemirror_mode": {
    "name": "ipython",
    "version": 3
   },
   "file_extension": ".py",
   "mimetype": "text/x-python",
   "name": "python",
   "nbconvert_exporter": "python",
   "pygments_lexer": "ipython3",
   "version": "3.9.12"
  }
 },
 "nbformat": 4,
 "nbformat_minor": 2
}
