{
 "cells": [
  {
   "cell_type": "code",
   "execution_count": 5,
   "metadata": {},
   "outputs": [
    {
     "name": "stdout",
     "output_type": "stream",
     "text": [
      "  ____wildcard()\n",
      "  ______Select  id  , name  , label  from jobdescription where name like '%Teknik Komputer & Jaringan%'  and done is null \n",
      "  ________Total Row(s) : 0\n",
      "  ________ner length: 4\n",
      "  ________label length: 4\n"
     ]
    }
   ],
   "source": [
    "# Import\n",
    "import sys\n",
    "sys.path.append('../../../')\n",
    " \n",
    "from a_models.annotation import *   \n",
    " \n",
    "if __name__ == '__main__': \n",
    "    # --------------------------------------------------  \n",
    "    entity      = \"jobdescription\"  \n",
    "    ner         = \"Teknik Komputer & Jaringan\"  \n",
    "    label       = \"B-Bidang_studi I-Bidang_studi I-Bidang_studi I-Bidang_studi\"  \n",
    "    entitas     = \"bidang_studi\"  \n",
    "    update      = \"yes\"  \n",
    "    # -------------------------------------------------- \n",
    "    space = \"  __\" \n",
    "    # --------------------------------------------------  \n",
    "    wildcard(entity, ner, label, entitas, update, space)\n",
    "    # --------------------------------------------------    \n",
    "    ####################################################  "
   ]
  }
 ],
 "metadata": {
  "kernelspec": {
   "display_name": "base",
   "language": "python",
   "name": "python3"
  },
  "language_info": {
   "codemirror_mode": {
    "name": "ipython",
    "version": 3
   },
   "file_extension": ".py",
   "mimetype": "text/x-python",
   "name": "python",
   "nbconvert_exporter": "python",
   "pygments_lexer": "ipython3",
   "version": "3.9.12"
  }
 },
 "nbformat": 4,
 "nbformat_minor": 2
}
