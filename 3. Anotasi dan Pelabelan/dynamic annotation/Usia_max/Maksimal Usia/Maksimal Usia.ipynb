{
 "cells": [
  {
   "cell_type": "code",
   "execution_count": 1,
   "metadata": {},
   "outputs": [
    {
     "ename": "ModuleNotFoundError",
     "evalue": "No module named 'a_models'",
     "output_type": "error",
     "traceback": [
      "\u001b[1;31m---------------------------------------------------------------------------\u001b[0m",
      "\u001b[1;31mModuleNotFoundError\u001b[0m                       Traceback (most recent call last)",
      "\u001b[1;32mc:\\Users\\ASUS\\AryaDataAnalyst\\pr_py_vacancyonbert_2023_05\\3. Anotasi dan Pelabelan\\dynamic annotation\\Usia_max\\Maksimal Usia\\Maksimal Usia.ipynb Cell 1\u001b[0m line \u001b[0;36m<cell line: 5>\u001b[1;34m()\u001b[0m\n\u001b[0;32m      <a href='vscode-notebook-cell:/c%3A/Users/ASUS/AryaDataAnalyst/pr_py_vacancyonbert_2023_05/3.%20Anotasi%20dan%20Pelabelan/dynamic%20annotation/Usia_max/Maksimal%20Usia/Maksimal%20Usia.ipynb#W0sZmlsZQ%3D%3D?line=1'>2</a>\u001b[0m \u001b[39mimport\u001b[39;00m \u001b[39msys\u001b[39;00m\n\u001b[0;32m      <a href='vscode-notebook-cell:/c%3A/Users/ASUS/AryaDataAnalyst/pr_py_vacancyonbert_2023_05/3.%20Anotasi%20dan%20Pelabelan/dynamic%20annotation/Usia_max/Maksimal%20Usia/Maksimal%20Usia.ipynb#W0sZmlsZQ%3D%3D?line=2'>3</a>\u001b[0m sys\u001b[39m.\u001b[39mpath\u001b[39m.\u001b[39mappend(\u001b[39m'\u001b[39m\u001b[39m../../../\u001b[39m\u001b[39m'\u001b[39m)\n\u001b[1;32m----> <a href='vscode-notebook-cell:/c%3A/Users/ASUS/AryaDataAnalyst/pr_py_vacancyonbert_2023_05/3.%20Anotasi%20dan%20Pelabelan/dynamic%20annotation/Usia_max/Maksimal%20Usia/Maksimal%20Usia.ipynb#W0sZmlsZQ%3D%3D?line=4'>5</a>\u001b[0m \u001b[39mfrom\u001b[39;00m \u001b[39ma_models\u001b[39;00m\u001b[39m.\u001b[39;00m\u001b[39mannotation\u001b[39;00m \u001b[39mimport\u001b[39;00m \u001b[39m*\u001b[39m   \n\u001b[0;32m      <a href='vscode-notebook-cell:/c%3A/Users/ASUS/AryaDataAnalyst/pr_py_vacancyonbert_2023_05/3.%20Anotasi%20dan%20Pelabelan/dynamic%20annotation/Usia_max/Maksimal%20Usia/Maksimal%20Usia.ipynb#W0sZmlsZQ%3D%3D?line=6'>7</a>\u001b[0m \u001b[39mif\u001b[39;00m \u001b[39m__name__\u001b[39m \u001b[39m==\u001b[39m \u001b[39m'\u001b[39m\u001b[39m__main__\u001b[39m\u001b[39m'\u001b[39m: \n\u001b[0;32m      <a href='vscode-notebook-cell:/c%3A/Users/ASUS/AryaDataAnalyst/pr_py_vacancyonbert_2023_05/3.%20Anotasi%20dan%20Pelabelan/dynamic%20annotation/Usia_max/Maksimal%20Usia/Maksimal%20Usia.ipynb#W0sZmlsZQ%3D%3D?line=7'>8</a>\u001b[0m     \u001b[39m# --------------------------------------------------  \u001b[39;00m\n\u001b[0;32m      <a href='vscode-notebook-cell:/c%3A/Users/ASUS/AryaDataAnalyst/pr_py_vacancyonbert_2023_05/3.%20Anotasi%20dan%20Pelabelan/dynamic%20annotation/Usia_max/Maksimal%20Usia/Maksimal%20Usia.ipynb#W0sZmlsZQ%3D%3D?line=8'>9</a>\u001b[0m     entity      \u001b[39m=\u001b[39m \u001b[39m\"\u001b[39m\u001b[39mjobdescription\u001b[39m\u001b[39m\"\u001b[39m  \n",
      "\u001b[1;31mModuleNotFoundError\u001b[0m: No module named 'a_models'"
     ]
    }
   ],
   "source": [
    "# Import\n",
    "import sys\n",
    "sys.path.append('../../../')\n",
    " \n",
    "from a_models.annotation import *   \n",
    " \n",
    "if __name__ == '__main__': \n",
    "    # --------------------------------------------------  \n",
    "    entity      = \"jobdescription\"  \n",
    "    ner         = \"Maksimal Usia\"  \n",
    "    label       = \"B-Usia_Max I-Usia_Max\"  \n",
    "    entitas     = \"usia_max\"  \n",
    "    update      = \"no\"  \n",
    "    # -------------------------------------------------- \n",
    "    space = \"  __\" \n",
    "    # --------------------------------------------------  \n",
    "    wildcard(entity, ner, label, entitas, update, space)\n",
    "    # --------------------------------------------------    \n",
    "    ####################################################  "
   ]
  }
 ],
 "metadata": {
  "kernelspec": {
   "display_name": "base",
   "language": "python",
   "name": "python3"
  },
  "language_info": {
   "codemirror_mode": {
    "name": "ipython",
    "version": 3
   },
   "file_extension": ".py",
   "mimetype": "text/x-python",
   "name": "python",
   "nbconvert_exporter": "python",
   "pygments_lexer": "ipython3",
   "version": "3.9.12"
  }
 },
 "nbformat": 4,
 "nbformat_minor": 2
}
