{
 "cells": [
  {
   "cell_type": "code",
   "execution_count": 1,
   "metadata": {},
   "outputs": [
    {
     "name": "stdout",
     "output_type": "stream",
     "text": [
      "  ____wildcard()\n",
      "  ______Select  id  , dataset  , label  from jobdescription where dataset like '%S1%'  and done is null \n",
      "  ________Total Row(s) : 10716\n",
      "  ________ner length: 1\n",
      "  ________label length: 1\n",
      "End\n"
     ]
    }
   ],
   "source": [
    "# Import\n",
    "import sys\n",
    "sys.path.append('../../../')\n",
    " \n",
    "from a_models.annotation_laravel import *   \n",
    " \n",
    "if __name__ == '__main__': \n",
    "    # --------------------------------------------------  \n",
    "    entity      = \"jobdescription\"  \n",
    "    ner         = \"S1\"  \n",
    "    label       = \"B-Tingkat_pendidikan\"  \n",
    "    entitas     = \"tingkat_pendidikan\"  \n",
    "    update      = \"yes\"  \n",
    "    printx      = \"no\"  \n",
    "    # -------------------------------------------------- \n",
    "    space = \"  __\" \n",
    "    # --------------------------------------------------  \n",
    "    wildcard(entity, ner, label, entitas, update, printx, space)\n",
    "    # --------------------------------------------------   \n",
    "    print(\"End\") \n",
    "    ####################################################  "
   ]
  }
 ],
 "metadata": {
  "kernelspec": {
   "display_name": "base",
   "language": "python",
   "name": "python3"
  },
  "language_info": {
   "codemirror_mode": {
    "name": "ipython",
    "version": 3
   },
   "file_extension": ".py",
   "mimetype": "text/x-python",
   "name": "python",
   "nbconvert_exporter": "python",
   "pygments_lexer": "ipython3",
   "version": "3.9.12"
  }
 },
 "nbformat": 4,
 "nbformat_minor": 2
}
