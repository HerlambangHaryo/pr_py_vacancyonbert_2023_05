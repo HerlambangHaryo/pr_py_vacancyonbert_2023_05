{
 "cells": [
  {
   "cell_type": "code",
   "execution_count": 1,
   "metadata": {},
   "outputs": [
    {
     "name": "stdout",
     "output_type": "stream",
     "text": [
      "  ____wildcard()\n",
      "  ______Select  id  , dataset  , label  from jobdescription where dataset like '%Bersedia di tempatkan dimana saja%'  and done is null \n",
      "  ________Total Row(s) : 12\n",
      "  ________ner length: 5\n",
      "  ________label length: 5\n",
      "End\n"
     ]
    }
   ],
   "source": [
    "# Import\n",
    "import sys\n",
    "sys.path.append('../../../')\n",
    " \n",
    "from a_models.annotation_laravel import *   \n",
    " \n",
    "if __name__ == '__main__': \n",
    "    # --------------------------------------------------  \n",
    "    entity      = \"jobdescription\"  \n",
    "    ner         = \"Bersedia di tempatkan dimana saja\"   \n",
    "    label       = \"B-penempatan I-penempatan I-penempatan I-penempatan I-penempatan\"  \n",
    "    entitas     = \"penempatan\"  \n",
    "    update      = \"yes\"  \n",
    "    printx      = \"no\"  \n",
    "    # -------------------------------------------------- \n",
    "    space = \"  __\" \n",
    "    # --------------------------------------------------  \n",
    "    wildcard(entity, ner, label, entitas, update, printx, space)\n",
    "    # --------------------------------------------------   \n",
    "    print(\"End\") \n",
    "    ####################################################  "
   ]
  }
 ],
 "metadata": {
  "kernelspec": {
   "display_name": "base",
   "language": "python",
   "name": "python3"
  },
  "language_info": {
   "codemirror_mode": {
    "name": "ipython",
    "version": 3
   },
   "file_extension": ".py",
   "mimetype": "text/x-python",
   "name": "python",
   "nbconvert_exporter": "python",
   "pygments_lexer": "ipython3",
   "version": "3.9.12"
  }
 },
 "nbformat": 4,
 "nbformat_minor": 2
}
