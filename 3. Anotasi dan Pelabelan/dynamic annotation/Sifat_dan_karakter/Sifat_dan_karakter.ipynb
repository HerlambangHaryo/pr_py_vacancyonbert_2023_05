{
 "cells": [
  {
   "cell_type": "code",
   "execution_count": 1,
   "metadata": {},
   "outputs": [
    {
     "name": "stdout",
     "output_type": "stream",
     "text": [
      "  ____wildcard()\n",
      "  ______Select  id  , dataset  , label  from jobdescription where dataset like '%Jujur%'  and done is null \n",
      "  ________Total Row(s) : 7686\n",
      "  ________ner length: 1\n",
      "  ________label length: 1\n",
      "End\n"
     ]
    }
   ],
   "source": [
    "# Import\n",
    "import sys\n",
    "sys.path.append('../../../')\n",
    " \n",
    "from a_models.annotation_laravel import *   \n",
    " \n",
    "if __name__ == '__main__': \n",
    "    # --------------------------------------------------  \n",
    "    entity      = \"jobdescription\"  \n",
    "    ner         = \"Jujur\"   \n",
    "    label       = \"B-sifat_dan_karakter\"  \n",
    "    entitas     = \"sifat_dan_karakter\"  \n",
    "    update      = \"yes\"  \n",
    "    printx      = \"no\"  \n",
    "    # -------------------------------------------------- \n",
    "    space = \"  __\" \n",
    "    # --------------------------------------------------  \n",
    "    wildcard(entity, ner, label, entitas, update, printx, space)\n",
    "    # --------------------------------------------------   \n",
    "    print(\"End\") \n",
    "    ####################################################  "
   ]
  },
  {
   "cell_type": "code",
   "execution_count": 2,
   "metadata": {},
   "outputs": [
    {
     "name": "stdout",
     "output_type": "stream",
     "text": [
      "  ____wildcard()\n",
      "  ______Select  id  , dataset  , label  from jobdescription where dataset like '%Disiplin%'  and done is null \n",
      "  ________Total Row(s) : 4664\n",
      "  ________ner length: 1\n",
      "  ________label length: 1\n",
      "End\n"
     ]
    }
   ],
   "source": [
    "# Import\n",
    "import sys\n",
    "sys.path.append('../../../')\n",
    " \n",
    "from a_models.annotation_laravel import *   \n",
    " \n",
    "if __name__ == '__main__': \n",
    "    # --------------------------------------------------  \n",
    "    entity      = \"jobdescription\"  \n",
    "    ner         = \"Disiplin\"   \n",
    "    label       = \"B-sifat_dan_karakter\"  \n",
    "    entitas     = \"sifat_dan_karakter\"  \n",
    "    update      = \"yes\"  \n",
    "    printx      = \"no\"  \n",
    "    # -------------------------------------------------- \n",
    "    space = \"  __\" \n",
    "    # --------------------------------------------------  \n",
    "    wildcard(entity, ner, label, entitas, update, printx, space)\n",
    "    # --------------------------------------------------   \n",
    "    print(\"End\") \n",
    "    ####################################################  "
   ]
  },
  {
   "cell_type": "code",
   "execution_count": 3,
   "metadata": {},
   "outputs": [
    {
     "name": "stdout",
     "output_type": "stream",
     "text": [
      "  ____wildcard()\n",
      "  ______Select  id  , dataset  , label  from jobdescription where dataset like '%Teliti%'  and done is null \n",
      "  ________Total Row(s) : 4275\n",
      "  ________ner length: 1\n",
      "  ________label length: 1\n",
      "End\n"
     ]
    }
   ],
   "source": [
    "# Import\n",
    "import sys\n",
    "sys.path.append('../../../')\n",
    " \n",
    "from a_models.annotation_laravel import *   \n",
    " \n",
    "if __name__ == '__main__': \n",
    "    # --------------------------------------------------  \n",
    "    entity      = \"jobdescription\"  \n",
    "    ner         = \"Teliti\"   \n",
    "    label       = \"B-sifat_dan_karakter\"  \n",
    "    entitas     = \"sifat_dan_karakter\"  \n",
    "    update      = \"yes\"  \n",
    "    printx      = \"no\"  \n",
    "    # -------------------------------------------------- \n",
    "    space = \"  __\" \n",
    "    # --------------------------------------------------  \n",
    "    wildcard(entity, ner, label, entitas, update, printx, space)\n",
    "    # --------------------------------------------------   \n",
    "    print(\"End\") \n",
    "    ####################################################  "
   ]
  },
  {
   "cell_type": "code",
   "execution_count": 4,
   "metadata": {},
   "outputs": [
    {
     "name": "stdout",
     "output_type": "stream",
     "text": [
      "  ____wildcard()\n",
      "  ______Select  id  , dataset  , label  from jobdescription where dataset like '%Bertanggung Jawab%'  and done is null \n",
      "  ________Total Row(s) : 7749\n",
      "  ________ner length: 2\n",
      "  ________label length: 2\n",
      "End\n"
     ]
    }
   ],
   "source": [
    "# Import\n",
    "import sys\n",
    "sys.path.append('../../../')\n",
    " \n",
    "from a_models.annotation_laravel import *   \n",
    " \n",
    "if __name__ == '__main__': \n",
    "    # --------------------------------------------------  \n",
    "    entity      = \"jobdescription\"  \n",
    "    ner         = \"Bertanggung Jawab\"   \n",
    "    label       = \"B-sifat_dan_karakter I-sifat_dan_karakter\"  \n",
    "    entitas     = \"sifat_dan_karakter\"  \n",
    "    update      = \"yes\"  \n",
    "    printx      = \"no\"  \n",
    "    # -------------------------------------------------- \n",
    "    space = \"  __\" \n",
    "    # --------------------------------------------------  \n",
    "    wildcard(entity, ner, label, entitas, update, printx, space)\n",
    "    # --------------------------------------------------   \n",
    "    print(\"End\") \n",
    "    ####################################################  "
   ]
  },
  {
   "cell_type": "code",
   "execution_count": 5,
   "metadata": {},
   "outputs": [
    {
     "name": "stdout",
     "output_type": "stream",
     "text": [
      "  ____wildcard()\n",
      "  ______Select  id  , dataset  , label  from jobdescription where dataset like '%Komunikatif%'  and done is null \n",
      "  ________Total Row(s) : 2535\n",
      "  ________ner length: 1\n",
      "  ________label length: 1\n",
      "End\n"
     ]
    }
   ],
   "source": [
    "# Import\n",
    "import sys\n",
    "sys.path.append('../../../')\n",
    " \n",
    "from a_models.annotation_laravel import *   \n",
    " \n",
    "if __name__ == '__main__': \n",
    "    # --------------------------------------------------  \n",
    "    entity      = \"jobdescription\"  \n",
    "    ner         = \"Komunikatif\"   \n",
    "    label       = \"B-sifat_dan_karakter\"  \n",
    "    entitas     = \"sifat_dan_karakter\"  \n",
    "    update      = \"yes\"  \n",
    "    printx      = \"no\"  \n",
    "    # -------------------------------------------------- \n",
    "    space = \"  __\" \n",
    "    # --------------------------------------------------  \n",
    "    wildcard(entity, ner, label, entitas, update, printx, space)\n",
    "    # --------------------------------------------------   \n",
    "    print(\"End\") \n",
    "    ####################################################  "
   ]
  },
  {
   "cell_type": "code",
   "execution_count": 6,
   "metadata": {},
   "outputs": [
    {
     "name": "stdout",
     "output_type": "stream",
     "text": [
      "  ____wildcard()\n",
      "  ______Select  id  , dataset  , label  from jobdescription where dataset like '%Inisiatif%'  and done is null \n",
      "  ________Total Row(s) : 1300\n",
      "  ________ner length: 1\n",
      "  ________label length: 1\n",
      "End\n"
     ]
    }
   ],
   "source": [
    "# Import\n",
    "import sys\n",
    "sys.path.append('../../../')\n",
    " \n",
    "from a_models.annotation_laravel import *   \n",
    " \n",
    "if __name__ == '__main__': \n",
    "    # --------------------------------------------------  \n",
    "    entity      = \"jobdescription\"  \n",
    "    ner         = \"Inisiatif\"   \n",
    "    label       = \"B-sifat_dan_karakter\"  \n",
    "    entitas     = \"sifat_dan_karakter\"  \n",
    "    update      = \"yes\"  \n",
    "    printx      = \"no\"  \n",
    "    # -------------------------------------------------- \n",
    "    space = \"  __\" \n",
    "    # --------------------------------------------------  \n",
    "    wildcard(entity, ner, label, entitas, update, printx, space)\n",
    "    # --------------------------------------------------   \n",
    "    print(\"End\") \n",
    "    ####################################################  "
   ]
  },
  {
   "cell_type": "code",
   "execution_count": 7,
   "metadata": {},
   "outputs": [
    {
     "name": "stdout",
     "output_type": "stream",
     "text": [
      "  ____wildcard()\n",
      "  ______Select  id  , dataset  , label  from jobdescription where dataset like '%Pro - aktif%'  and done is null \n",
      "  ________Total Row(s) : 22\n",
      "  ________ner length: 3\n",
      "  ________label length: 3\n",
      "End\n"
     ]
    }
   ],
   "source": [
    "# Import\n",
    "import sys\n",
    "sys.path.append('../../../')\n",
    " \n",
    "from a_models.annotation_laravel import *   \n",
    " \n",
    "if __name__ == '__main__': \n",
    "    # --------------------------------------------------  \n",
    "    entity      = \"jobdescription\"  \n",
    "    ner         = \"Pro - aktif\"   \n",
    "    label       = \"B-sifat_dan_karakter I-sifat_dan_karakter I-sifat_dan_karakter\"  \n",
    "    entitas     = \"sifat_dan_karakter\"  \n",
    "    update      = \"yes\"  \n",
    "    printx      = \"no\"  \n",
    "    # -------------------------------------------------- \n",
    "    space = \"  __\" \n",
    "    # --------------------------------------------------  \n",
    "    wildcard(entity, ner, label, entitas, update, printx, space)\n",
    "    # --------------------------------------------------   \n",
    "    print(\"End\") \n",
    "    ####################################################  "
   ]
  }
 ],
 "metadata": {
  "kernelspec": {
   "display_name": "base",
   "language": "python",
   "name": "python3"
  },
  "language_info": {
   "codemirror_mode": {
    "name": "ipython",
    "version": 3
   },
   "file_extension": ".py",
   "mimetype": "text/x-python",
   "name": "python",
   "nbconvert_exporter": "python",
   "pygments_lexer": "ipython3",
   "version": "3.9.12"
  }
 },
 "nbformat": 4,
 "nbformat_minor": 2
}
