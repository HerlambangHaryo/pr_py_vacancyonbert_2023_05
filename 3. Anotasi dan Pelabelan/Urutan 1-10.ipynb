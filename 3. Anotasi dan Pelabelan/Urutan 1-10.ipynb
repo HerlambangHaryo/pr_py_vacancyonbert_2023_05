{
 "cells": [
  {
   "cell_type": "code",
   "execution_count": 2,
   "metadata": {},
   "outputs": [
    {
     "name": "stdout",
     "output_type": "stream",
     "text": [
      "  ____urutan()\n",
      "  ______Select  id  , name  , label  from jobdescription_dataset where done is null  order by name asc  limit 10 \n",
      "  ________Total Row(s) : 10\n",
      "- Assisting the employer and other villa staff with the planning of events .\n",
      "- Assisting with the management of villa's important assets and inventories .\n",
      "- Berpenampilan rapi\n",
      "- Coordinating the maintenance and preservation of the villa's artworks , antiques , and silverware .\n",
      "- Energik , Cekatan dan Komunikatif\n",
      "- Ensuring that cleaning and household chores are completed .\n",
      "- Experienced in working on Journal Accounting\n",
      "- Greeting guests in a professional manner upon their arrival .\n",
      "- Maintain updated records of bookings and payments\n",
      "- Min D3 Accountancy\n",
      "\n",
      "\n",
      "O O O O O O O O O O O O O O O O O\n",
      "O O O O O O O O O O O O O O O\n",
      "O O O O O O O O\n",
      "O O O O O O O O O O O O O O O O O O O\n",
      "O O O O O O O O O O O\n",
      "O O O O O O O O O O O O O\n",
      "O O O O O O O O O\n",
      "O O O O O O O O O O O O O O\n",
      "O O O O O O O O O O\n",
      "O O O O B-Tingkat_pendidikan O \n"
     ]
    }
   ],
   "source": [
    "# Import\n",
    "import sys\n",
    "sys.path.append('../')\n",
    " \n",
    "from a_models.annotation import *   \n",
    " \n",
    "if __name__ == '__main__': \n",
    "    # --------------------------------------------------  \n",
    "    entity  = \"jobdescription_dataset\"  \n",
    "    # -------------------------------------------------- \n",
    "    space = \"  __\" \n",
    "    # --------------------------------------------------  \n",
    "    urutan(entity, space)\n",
    "    # --------------------------------------------------    \n",
    "    ####################################################  "
   ]
  }
 ],
 "metadata": {
  "kernelspec": {
   "display_name": "base",
   "language": "python",
   "name": "python3"
  },
  "language_info": {
   "codemirror_mode": {
    "name": "ipython",
    "version": 3
   },
   "file_extension": ".py",
   "mimetype": "text/x-python",
   "name": "python",
   "nbconvert_exporter": "python",
   "pygments_lexer": "ipython3",
   "version": "3.9.12"
  }
 },
 "nbformat": 4,
 "nbformat_minor": 2
}
