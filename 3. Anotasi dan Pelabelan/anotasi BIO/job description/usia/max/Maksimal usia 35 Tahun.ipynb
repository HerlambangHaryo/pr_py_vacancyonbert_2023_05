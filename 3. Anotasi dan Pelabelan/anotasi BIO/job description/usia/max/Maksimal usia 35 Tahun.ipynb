{
 "cells": [
  {
   "cell_type": "code",
   "execution_count": null,
   "metadata": {},
   "outputs": [],
   "source": [
    "# Import\n",
    "import sys\n",
    "sys.path.append('../../../../../')\n",
    " \n",
    "from a_models.usia import *   \n",
    " \n",
    "if __name__ == '__main__': \n",
    "    # --------------------------------------------------  \n",
    "    entity  = \"jobdescription_dataset_0_5000_fk_train\"  \n",
    "    label   = \"B-Usia_Max I-Usia_Max I-Usia_Max I-Usia_Max\" \n",
    "    update  = \"yes\" \n",
    "    # -------------------------------------------------- \n",
    "    wildcard    = \"Maksimal Usia%\"\n",
    "    length      = 22\n",
    "    # -------------------------------------------------- \n",
    "    space = \"  __\" \n",
    "    # --------------------------------------------------  \n",
    "    General_usia_xx_tahun(entity, label, update, wildcard, length, space)\n",
    "    # --------------------------------------------------    \n",
    "    ####################################################  "
   ]
  }
 ],
 "metadata": {
  "kernelspec": {
   "display_name": "base",
   "language": "python",
   "name": "python3"
  },
  "language_info": {
   "codemirror_mode": {
    "name": "ipython",
    "version": 3
   },
   "file_extension": ".py",
   "mimetype": "text/x-python",
   "name": "python",
   "nbconvert_exporter": "python",
   "pygments_lexer": "ipython3",
   "version": "3.9.12"
  }
 },
 "nbformat": 4,
 "nbformat_minor": 2
}
