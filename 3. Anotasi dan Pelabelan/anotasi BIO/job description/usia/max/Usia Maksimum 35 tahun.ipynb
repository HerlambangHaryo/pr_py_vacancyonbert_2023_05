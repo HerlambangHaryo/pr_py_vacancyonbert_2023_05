{
 "cells": [
  {
   "cell_type": "code",
   "execution_count": 1,
   "metadata": {},
   "outputs": [
    {
     "name": "stdout",
     "output_type": "stream",
     "text": [
      "  ____General_usia_xx_tahun()\n",
      "  ______Select  name   , label   , id   , length   from jobdescription_dataset_0_5000_fk_train where entitas = 'Usia'  and length = 22 and name like 'Usia Maksimum%'  order by name asc \n",
      "  ________Total Row(s) : 16\n",
      "  __________[1/16]  #Usia Maksimum 27 tahun __ B-Usia_Max I-Usia_Max I-Usia_Max I-Usia_Max __ 22\n",
      "  __________pelabelan()\n",
      "  ____________UPDATE `jobdescription_dataset_0_5000_fk_train` SET `label` = 'B-Usia_Max I-Usia_Max I-Usia_Max I-Usia_Max', `done` = 1 WHERE `id` = '81757'; \n",
      "  __________[2/16]  #Usia maksimum 28 tahun __ B-Usia_Max I-Usia_Max I-Usia_Max I-Usia_Max __ 22\n",
      "  __________pelabelan()\n",
      "  ____________UPDATE `jobdescription_dataset_0_5000_fk_train` SET `label` = 'B-Usia_Max I-Usia_Max I-Usia_Max I-Usia_Max', `done` = 1 WHERE `id` = '12622'; \n",
      "  __________[3/16]  #Usia maksimum 30 tahun __ B-Usia_Max I-Usia_Max I-Usia_Max I-Usia_Max __ 22\n",
      "  __________pelabelan()\n",
      "  ____________UPDATE `jobdescription_dataset_0_5000_fk_train` SET `label` = 'B-Usia_Max I-Usia_Max I-Usia_Max I-Usia_Max', `done` = 1 WHERE `id` = '4624'; \n",
      "  __________[4/16]  #Usia maksimum 30 tahun __ B-Usia_Max I-Usia_Max I-Usia_Max I-Usia_Max __ 22\n",
      "  __________pelabelan()\n",
      "  ____________UPDATE `jobdescription_dataset_0_5000_fk_train` SET `label` = 'B-Usia_Max I-Usia_Max I-Usia_Max I-Usia_Max', `done` = 1 WHERE `id` = '72198'; \n",
      "  __________[5/16]  #Usia Maksimum 30 Tahun __ B-Usia_Max I-Usia_Max I-Usia_Max I-Usia_Max __ 22\n",
      "  __________pelabelan()\n",
      "  ____________UPDATE `jobdescription_dataset_0_5000_fk_train` SET `label` = 'B-Usia_Max I-Usia_Max I-Usia_Max I-Usia_Max', `done` = 1 WHERE `id` = '95306'; \n",
      "  __________[6/16]  #Usia Maksimum 32 tahun __ B-Usia_Max I-Usia_Max I-Usia_Max I-Usia_Max __ 22\n",
      "  __________pelabelan()\n",
      "  ____________UPDATE `jobdescription_dataset_0_5000_fk_train` SET `label` = 'B-Usia_Max I-Usia_Max I-Usia_Max I-Usia_Max', `done` = 1 WHERE `id` = '48305'; \n",
      "  __________[7/16]  #Usia maksimum 32 tahun __ B-Usia_Max I-Usia_Max I-Usia_Max I-Usia_Max __ 22\n",
      "  __________pelabelan()\n",
      "  ____________UPDATE `jobdescription_dataset_0_5000_fk_train` SET `label` = 'B-Usia_Max I-Usia_Max I-Usia_Max I-Usia_Max', `done` = 1 WHERE `id` = '55762'; \n",
      "  __________[8/16]  #Usia maksimum 35 tahun __ B-Usia_Max I-Usia_Max I-Usia_Max I-Usia_Max __ 22\n",
      "  __________pelabelan()\n",
      "  ____________UPDATE `jobdescription_dataset_0_5000_fk_train` SET `label` = 'B-Usia_Max I-Usia_Max I-Usia_Max I-Usia_Max', `done` = 1 WHERE `id` = '18840'; \n",
      "  __________[9/16]  #Usia Maksimum 35 tahun __ B-Usia_Max I-Usia_Max I-Usia_Max I-Usia_Max __ 22\n",
      "  __________pelabelan()\n",
      "  ____________UPDATE `jobdescription_dataset_0_5000_fk_train` SET `label` = 'B-Usia_Max I-Usia_Max I-Usia_Max I-Usia_Max', `done` = 1 WHERE `id` = '61206'; \n",
      "  __________[10/16]  #Usia maksimum 35 tahun __ B-Usia_Max I-Usia_Max I-Usia_Max I-Usia_Max __ 22\n",
      "  __________pelabelan()\n",
      "  ____________UPDATE `jobdescription_dataset_0_5000_fk_train` SET `label` = 'B-Usia_Max I-Usia_Max I-Usia_Max I-Usia_Max', `done` = 1 WHERE `id` = '91622'; \n",
      "  __________[11/16]  #Usia Maksimum 38 Tahun __ B-Usia_Max I-Usia_Max I-Usia_Max I-Usia_Max __ 22\n",
      "  __________pelabelan()\n",
      "  ____________UPDATE `jobdescription_dataset_0_5000_fk_train` SET `label` = 'B-Usia_Max I-Usia_Max I-Usia_Max I-Usia_Max', `done` = 1 WHERE `id` = '10032'; \n",
      "  __________[12/16]  #Usia Maksimum 38 tahun __ B-Usia_Max I-Usia_Max I-Usia_Max I-Usia_Max __ 22\n",
      "  __________pelabelan()\n",
      "  ____________UPDATE `jobdescription_dataset_0_5000_fk_train` SET `label` = 'B-Usia_Max I-Usia_Max I-Usia_Max I-Usia_Max', `done` = 1 WHERE `id` = '54860'; \n",
      "  __________[13/16]  #Usia maksimum 40 tahun __ B-Usia_Max I-Usia_Max I-Usia_Max I-Usia_Max __ 22\n",
      "  __________pelabelan()\n",
      "  ____________UPDATE `jobdescription_dataset_0_5000_fk_train` SET `label` = 'B-Usia_Max I-Usia_Max I-Usia_Max I-Usia_Max', `done` = 1 WHERE `id` = '16555'; \n",
      "  __________[14/16]  #Usia maksimum 40 tahun __ B-Usia_Max I-Usia_Max I-Usia_Max I-Usia_Max __ 22\n",
      "  __________pelabelan()\n",
      "  ____________UPDATE `jobdescription_dataset_0_5000_fk_train` SET `label` = 'B-Usia_Max I-Usia_Max I-Usia_Max I-Usia_Max', `done` = 1 WHERE `id` = '18249'; \n",
      "  __________[15/16]  #Usia Maksimum 40 Tahun __ B-Usia_Max I-Usia_Max I-Usia_Max I-Usia_Max __ 22\n",
      "  __________pelabelan()\n",
      "  ____________UPDATE `jobdescription_dataset_0_5000_fk_train` SET `label` = 'B-Usia_Max I-Usia_Max I-Usia_Max I-Usia_Max', `done` = 1 WHERE `id` = '58951'; \n",
      "  __________[16/16]  #Usia Maksimum 45 Tahun __ B-Usia_Max I-Usia_Max I-Usia_Max I-Usia_Max __ 22\n",
      "  __________pelabelan()\n",
      "  ____________UPDATE `jobdescription_dataset_0_5000_fk_train` SET `label` = 'B-Usia_Max I-Usia_Max I-Usia_Max I-Usia_Max', `done` = 1 WHERE `id` = '30892'; \n"
     ]
    }
   ],
   "source": [
    "# Import\n",
    "import sys\n",
    "sys.path.append('../../../../../')\n",
    " \n",
    "from a_models.usia import *   \n",
    " \n",
    "if __name__ == '__main__': \n",
    "    # --------------------------------------------------  \n",
    "    entity  = \"jobdescription_dataset_0_5000_fk_train\"  \n",
    "    label   = \"B-Usia_Max I-Usia_Max I-Usia_Max I-Usia_Max\" \n",
    "    update  = \"yes\" \n",
    "    # -------------------------------------------------- \n",
    "    wildcard    = \"Usia Maksimum%\"\n",
    "    length      = 22\n",
    "    # -------------------------------------------------- \n",
    "    space = \"  __\" \n",
    "    # --------------------------------------------------  \n",
    "    General_usia_xx_tahun(entity, label, update, wildcard, length, space)\n",
    "    # --------------------------------------------------    \n",
    "    ####################################################  "
   ]
  }
 ],
 "metadata": {
  "kernelspec": {
   "display_name": "base",
   "language": "python",
   "name": "python3"
  },
  "language_info": {
   "codemirror_mode": {
    "name": "ipython",
    "version": 3
   },
   "file_extension": ".py",
   "mimetype": "text/x-python",
   "name": "python",
   "nbconvert_exporter": "python",
   "pygments_lexer": "ipython3",
   "version": "3.9.12"
  }
 },
 "nbformat": 4,
 "nbformat_minor": 2
}
