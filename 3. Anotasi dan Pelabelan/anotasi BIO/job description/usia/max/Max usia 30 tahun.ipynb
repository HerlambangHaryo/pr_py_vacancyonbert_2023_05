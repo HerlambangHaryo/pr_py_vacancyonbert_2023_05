{
 "cells": [
  {
   "cell_type": "code",
   "execution_count": 2,
   "metadata": {},
   "outputs": [
    {
     "name": "stdout",
     "output_type": "stream",
     "text": [
      "  ____General_usia_xx_tahun()\n",
      "  ______Select  name   , label   , id   , length   from jobdescription_dataset_0_5000_fk_train where entitas = 'Usia'  and length = 17 and name like 'Max Usia%%'  order by name asc \n",
      "  ________Total Row(s) : 5\n",
      "  __________[1/5]  #max usia 27 tahun __ B-Usia_Max I-Usia_Max I-Usia_Max I-Usia_Max __ 17\n",
      "  __________pelabelan()\n",
      "  ____________UPDATE `jobdescription_dataset_0_5000_fk_train` SET `label` = 'B-Usia_Max I-Usia_Max I-Usia_Max I-Usia_Max', `done` = 1 WHERE `id` = '62916'; \n",
      "  __________[2/5]  #max usia 27 tahun __ B-Usia_Max I-Usia_Max I-Usia_Max I-Usia_Max __ 17\n",
      "  __________pelabelan()\n",
      "  ____________UPDATE `jobdescription_dataset_0_5000_fk_train` SET `label` = 'B-Usia_Max I-Usia_Max I-Usia_Max I-Usia_Max', `done` = 1 WHERE `id` = '63850'; \n",
      "  __________[3/5]  #max usia 30 tahun __ B-Usia_Max I-Usia_Max I-Usia_Max I-Usia_Max __ 17\n",
      "  __________pelabelan()\n",
      "  ____________UPDATE `jobdescription_dataset_0_5000_fk_train` SET `label` = 'B-Usia_Max I-Usia_Max I-Usia_Max I-Usia_Max', `done` = 1 WHERE `id` = '12597'; \n",
      "  __________[4/5]  #Max Usia 30 tahun __ B-Usia_Max I-Usia_Max I-Usia_Max I-Usia_Max __ 17\n",
      "  __________pelabelan()\n",
      "  ____________UPDATE `jobdescription_dataset_0_5000_fk_train` SET `label` = 'B-Usia_Max I-Usia_Max I-Usia_Max I-Usia_Max', `done` = 1 WHERE `id` = '30296'; \n",
      "  __________[5/5]  #Max usia 30 tahun __ B-Usia_Max I-Usia_Max I-Usia_Max I-Usia_Max __ 17\n",
      "  __________pelabelan()\n",
      "  ____________UPDATE `jobdescription_dataset_0_5000_fk_train` SET `label` = 'B-Usia_Max I-Usia_Max I-Usia_Max I-Usia_Max', `done` = 1 WHERE `id` = '93717'; \n"
     ]
    }
   ],
   "source": [
    "# Import\n",
    "import sys\n",
    "sys.path.append('../../../../../')\n",
    " \n",
    "from a_models.usia import *   \n",
    " \n",
    "if __name__ == '__main__': \n",
    "    # --------------------------------------------------  \n",
    "    entity  = \"jobdescription_dataset_0_5000_fk_train\"  \n",
    "    label   = \"B-Usia_Max I-Usia_Max I-Usia_Max I-Usia_Max\" \n",
    "    update  = \"yes\" \n",
    "    # -------------------------------------------------- \n",
    "    wildcard    = \"Max Usia%\"\n",
    "    length      = 17\n",
    "    # -------------------------------------------------- \n",
    "    space = \"  __\" \n",
    "    # --------------------------------------------------  \n",
    "    General_usia_xx_tahun(entity, label, update, wildcard, length, space)\n",
    "    # --------------------------------------------------    \n",
    "    ####################################################  "
   ]
  }
 ],
 "metadata": {
  "kernelspec": {
   "display_name": "base",
   "language": "python",
   "name": "python3"
  },
  "language_info": {
   "codemirror_mode": {
    "name": "ipython",
    "version": 3
   },
   "file_extension": ".py",
   "mimetype": "text/x-python",
   "name": "python",
   "nbconvert_exporter": "python",
   "pygments_lexer": "ipython3",
   "version": "3.9.12"
  }
 },
 "nbformat": 4,
 "nbformat_minor": 2
}
