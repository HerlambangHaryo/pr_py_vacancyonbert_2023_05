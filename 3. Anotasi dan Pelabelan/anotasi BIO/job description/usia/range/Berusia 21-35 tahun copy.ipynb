{
 "cells": [
  {
   "cell_type": "code",
   "execution_count": 2,
   "metadata": {},
   "outputs": [
    {
     "name": "stdout",
     "output_type": "stream",
     "text": [
      "  ____General_ver3_usia_xx_tahun()\n",
      "  ______Select  name   , label   , id   , length   from jobdescription_dataset_0_5000_fk_train where entitas = 'Usia'  and length = 19 and name like 'Berusia%'  and name like '%-%'  and name like '%Tahun'  and done is null  order by name asc \n",
      "  ________Total Row(s) : 13\n",
      "  __________[1/13]  #Berusia 18-24 tahun __ B-Usia_Min I-Usia_Min B-Usia_Max I-Usia_Max __ 19\n",
      "  __________pelabelan()\n",
      "  ____________UPDATE `jobdescription_dataset_0_5000_fk_train` SET `label` = 'B-Usia_Min I-Usia_Min B-Usia_Max I-Usia_Max', `done` = 1 WHERE `id` = '89439'; \n",
      "  __________[2/13]  #Berusia 20-25 tahun __ B-Usia_Min I-Usia_Min B-Usia_Max I-Usia_Max __ 19\n",
      "  __________pelabelan()\n",
      "  ____________UPDATE `jobdescription_dataset_0_5000_fk_train` SET `label` = 'B-Usia_Min I-Usia_Min B-Usia_Max I-Usia_Max', `done` = 1 WHERE `id` = '3755'; \n",
      "  __________[3/13]  #Berusia 20-30 tahun __ B-Usia_Min I-Usia_Min B-Usia_Max I-Usia_Max __ 19\n",
      "  __________pelabelan()\n",
      "  ____________UPDATE `jobdescription_dataset_0_5000_fk_train` SET `label` = 'B-Usia_Min I-Usia_Min B-Usia_Max I-Usia_Max', `done` = 1 WHERE `id` = '1199'; \n",
      "  __________[4/13]  #Berusia 20-40 tahun __ B-Usia_Min I-Usia_Min B-Usia_Max I-Usia_Max __ 19\n",
      "  __________pelabelan()\n",
      "  ____________UPDATE `jobdescription_dataset_0_5000_fk_train` SET `label` = 'B-Usia_Min I-Usia_Min B-Usia_Max I-Usia_Max', `done` = 1 WHERE `id` = '62715'; \n",
      "  __________[5/13]  #Berusia 20-40 Tahun __ B-Usia_Min I-Usia_Min B-Usia_Max I-Usia_Max __ 19\n",
      "  __________pelabelan()\n",
      "  ____________UPDATE `jobdescription_dataset_0_5000_fk_train` SET `label` = 'B-Usia_Min I-Usia_Min B-Usia_Max I-Usia_Max', `done` = 1 WHERE `id` = '95949'; \n",
      "  __________[6/13]  #Berusia 21-26 Tahun __ B-Usia_Min I-Usia_Min B-Usia_Max I-Usia_Max __ 19\n",
      "  __________pelabelan()\n",
      "  ____________UPDATE `jobdescription_dataset_0_5000_fk_train` SET `label` = 'B-Usia_Min I-Usia_Min B-Usia_Max I-Usia_Max', `done` = 1 WHERE `id` = '66321'; \n",
      "  __________[7/13]  #Berusia 21-35 tahun __ B-Usia_Min I-Usia_Min B-Usia_Max I-Usia_Max __ 19\n",
      "  __________pelabelan()\n",
      "  ____________UPDATE `jobdescription_dataset_0_5000_fk_train` SET `label` = 'B-Usia_Min I-Usia_Min B-Usia_Max I-Usia_Max', `done` = 1 WHERE `id` = '29756'; \n",
      "  __________[8/13]  #Berusia 22-30 Tahun __ B-Usia_Min I-Usia_Min B-Usia_Max I-Usia_Max __ 19\n",
      "  __________pelabelan()\n",
      "  ____________UPDATE `jobdescription_dataset_0_5000_fk_train` SET `label` = 'B-Usia_Min I-Usia_Min B-Usia_Max I-Usia_Max', `done` = 1 WHERE `id` = '19321'; \n",
      "  __________[9/13]  #Berusia 22-30 Tahun __ B-Usia_Min I-Usia_Min B-Usia_Max I-Usia_Max __ 19\n",
      "  __________pelabelan()\n",
      "  ____________UPDATE `jobdescription_dataset_0_5000_fk_train` SET `label` = 'B-Usia_Min I-Usia_Min B-Usia_Max I-Usia_Max', `done` = 1 WHERE `id` = '31402'; \n",
      "  __________[10/13]  #Berusia 23-30 Tahun __ B-Usia_Min I-Usia_Min B-Usia_Max I-Usia_Max __ 19\n",
      "  __________pelabelan()\n",
      "  ____________UPDATE `jobdescription_dataset_0_5000_fk_train` SET `label` = 'B-Usia_Min I-Usia_Min B-Usia_Max I-Usia_Max', `done` = 1 WHERE `id` = '32145'; \n",
      "  __________[11/13]  #Berusia 28-40 tahun __ B-Usia_Min I-Usia_Min B-Usia_Max I-Usia_Max __ 19\n",
      "  __________pelabelan()\n",
      "  ____________UPDATE `jobdescription_dataset_0_5000_fk_train` SET `label` = 'B-Usia_Min I-Usia_Min B-Usia_Max I-Usia_Max', `done` = 1 WHERE `id` = '61750'; \n",
      "  __________[12/13]  #Berusia 30-38 tahun __ B-Usia_Min I-Usia_Min B-Usia_Max I-Usia_Max __ 19\n",
      "  __________pelabelan()\n",
      "  ____________UPDATE `jobdescription_dataset_0_5000_fk_train` SET `label` = 'B-Usia_Min I-Usia_Min B-Usia_Max I-Usia_Max', `done` = 1 WHERE `id` = '26762'; \n",
      "  __________[13/13]  #Berusia 35-45 Tahun __ B-Usia_Min I-Usia_Min B-Usia_Max I-Usia_Max __ 19\n",
      "  __________pelabelan()\n",
      "  ____________UPDATE `jobdescription_dataset_0_5000_fk_train` SET `label` = 'B-Usia_Min I-Usia_Min B-Usia_Max I-Usia_Max', `done` = 1 WHERE `id` = '13289'; \n"
     ]
    }
   ],
   "source": [
    "# Import\n",
    "import sys\n",
    "sys.path.append('../../../../../')\n",
    " \n",
    "from a_models.usia import *   \n",
    " \n",
    "if __name__ == '__main__': \n",
    "    # --------------------------------------------------  \n",
    "    entity  = \"jobdescription_dataset_0_5000_fk_train\"  \n",
    "    label   = \"B-Usia_Min I-Usia_Min B-Usia_Max I-Usia_Max\" \n",
    "    update  = \"yes\" \n",
    " \n",
    "    # -------------------------------------------------- \n",
    "    wildcard1    = \"Berusia%\"\n",
    "    wildcard2    = \"%-%\"\n",
    "    wildcard3    = \"%Tahun\"\n",
    "    length      = 19\n",
    "    # -------------------------------------------------- \n",
    "    space = \"  __\" \n",
    "    # --------------------------------------------------  \n",
    "    General_ver3_usia_xx_tahun(entity, label, update, wildcard1, wildcard2, wildcard3, length, space)\n",
    "    # --------------------------------------------------    \n",
    "    ####################################################  "
   ]
  }
 ],
 "metadata": {
  "kernelspec": {
   "display_name": "base",
   "language": "python",
   "name": "python3"
  },
  "language_info": {
   "codemirror_mode": {
    "name": "ipython",
    "version": 3
   },
   "file_extension": ".py",
   "mimetype": "text/x-python",
   "name": "python",
   "nbconvert_exporter": "python",
   "pygments_lexer": "ipython3",
   "version": "3.9.12"
  }
 },
 "nbformat": 4,
 "nbformat_minor": 2
}
