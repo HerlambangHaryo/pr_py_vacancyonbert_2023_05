{
 "cells": [
  {
   "cell_type": "code",
   "execution_count": 1,
   "metadata": {},
   "outputs": [
    {
     "name": "stdout",
     "output_type": "stream",
     "text": [
      "  ____General_usia_xx_tahun()\n",
      "  ______Select  name   , label   , id   , length   from jobdescription_dataset_0_5000_fk_train where entitas = 'Usia'  and length = 24 and name like 'Berusia Minimal%'  order by name asc \n",
      "  ________Total Row(s) : 3\n",
      "  __________[1/3]  #Berusia minimal 18 tahun __ B-Usia_Min I-Usia_Min I-Usia_Min I-Usia_Min __ 24\n",
      "  __________pelabelan()\n",
      "  ____________UPDATE `jobdescription_dataset_0_5000_fk_train` SET `label` = 'B-Usia_Min I-Usia_Min I-Usia_Min I-Usia_Min', `done` = 1 WHERE `id` = '72269'; \n",
      "  __________[2/3]  #Berusia minimal 19 tahun __ B-Usia_Min I-Usia_Min I-Usia_Min I-Usia_Min __ 24\n",
      "  __________pelabelan()\n",
      "  ____________UPDATE `jobdescription_dataset_0_5000_fk_train` SET `label` = 'B-Usia_Min I-Usia_Min I-Usia_Min I-Usia_Min', `done` = 1 WHERE `id` = '83043'; \n",
      "  __________[3/3]  #Berusia minimal 30 tahun __ B-Usia_Min I-Usia_Min I-Usia_Min I-Usia_Min __ 24\n",
      "  __________pelabelan()\n",
      "  ____________UPDATE `jobdescription_dataset_0_5000_fk_train` SET `label` = 'B-Usia_Min I-Usia_Min I-Usia_Min I-Usia_Min', `done` = 1 WHERE `id` = '13385'; \n"
     ]
    }
   ],
   "source": [
    "# Import\n",
    "import sys\n",
    "sys.path.append('../../../../../')\n",
    " \n",
    "from a_models.usia import *   \n",
    " \n",
    "if __name__ == '__main__': \n",
    "    # --------------------------------------------------  \n",
    "    entity  = \"jobdescription_dataset_0_5000_fk_train\"  \n",
    "    label   = \"B-Usia_Min I-Usia_Min I-Usia_Min I-Usia_Min\" \n",
    "    update  = \"yes\" \n",
    "    # -------------------------------------------------- \n",
    "    wildcard    = \"Berusia Minimum%\"\n",
    "    length      = 24\n",
    "    # -------------------------------------------------- \n",
    "    space = \"  __\" \n",
    "    # --------------------------------------------------  \n",
    "    General_usia_xx_tahun(entity, label, update, wildcard, length, space)\n",
    "    # --------------------------------------------------    \n",
    "    ####################################################  "
   ]
  }
 ],
 "metadata": {
  "kernelspec": {
   "display_name": "base",
   "language": "python",
   "name": "python3"
  },
  "language_info": {
   "codemirror_mode": {
    "name": "ipython",
    "version": 3
   },
   "file_extension": ".py",
   "mimetype": "text/x-python",
   "name": "python",
   "nbconvert_exporter": "python",
   "pygments_lexer": "ipython3",
   "version": "3.9.12"
  }
 },
 "nbformat": 4,
 "nbformat_minor": 2
}
