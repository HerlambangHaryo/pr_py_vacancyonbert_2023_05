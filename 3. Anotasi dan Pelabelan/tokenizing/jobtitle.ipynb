{
 "cells": [
  {
   "cell_type": "code",
   "execution_count": 5,
   "metadata": {},
   "outputs": [
    {
     "name": "stdout",
     "output_type": "stream",
     "text": [
      "  ____last_id()\n",
      "  ______SELECT fk_id FROM `dataset_jobtitle` order by fk_id desc limit 1\n",
      "  ________Last ID:48673\n",
      "  ____data_raw_jobtitle()\n",
      "  ______Select  fk_id  , dataset  from jobtitle where fk_id > 48673 limit 25000\n",
      "  ________Total Row(s) : 0\n",
      "  __End\n"
     ]
    }
   ],
   "source": [
    "# Import\n",
    "import sys\n",
    "sys.path.append('../../')\n",
    " \n",
    "from a_models.tokenizing_laravel import *   \n",
    " \n",
    "if __name__ == '__main__': \n",
    "    # --------------------------------------------------   \n",
    "    entity      = \"jobtitle\"   \n",
    "    limitx      = 25000\n",
    "    # -------------------------------------------------- \n",
    "    space = \"  __\" \n",
    "    # -------------------------------------------------- \n",
    "    last_idx = last_id_jobtitle(space) \n",
    "    # -------------------------------------------------- \n",
    "    data_raw_jobtitle(entity, last_idx, limitx, space)\n",
    "    # --------------------------------------------------   \n",
    "    print(space + \"End\") \n",
    "    ####################################################  "
   ]
  }
 ],
 "metadata": {
  "kernelspec": {
   "display_name": "base",
   "language": "python",
   "name": "python3"
  },
  "language_info": {
   "codemirror_mode": {
    "name": "ipython",
    "version": 3
   },
   "file_extension": ".py",
   "mimetype": "text/x-python",
   "name": "python",
   "nbconvert_exporter": "python",
   "pygments_lexer": "ipython3",
   "version": "3.9.12"
  }
 },
 "nbformat": 4,
 "nbformat_minor": 2
}
