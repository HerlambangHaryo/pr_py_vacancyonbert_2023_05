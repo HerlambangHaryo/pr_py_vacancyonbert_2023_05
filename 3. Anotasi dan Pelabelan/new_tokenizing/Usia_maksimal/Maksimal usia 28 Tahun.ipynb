{
 "cells": [
  {
   "cell_type": "code",
   "execution_count": null,
   "metadata": {},
   "outputs": [],
   "source": [
    "# Import\n",
    "import sys\n",
    "sys.path.append('../../../')\n",
    " \n",
    "from a_models.dynamic_annotation import *   \n",
    " \n",
    "if __name__ == '__main__': \n",
    "    # --------------------------------------------------     \n",
    "    space = \"  __\" \n",
    "    # --------------------------------------------------  \n",
    "    entity          = 'Usia maksimal int tahun'  \n",
    "    label           = 'O O B-usia_maksimal O'   \n",
    "    # --------------------------------------------------  \n",
    "    printx          = 'no'\n",
    "    updatex         = 'yes'\n",
    "    # --------------------------------------------------  \n",
    "    dynamic(entity, label, printx, updatex, space)\n",
    "    # --------------------------------------------------   \n",
    "    print(space + \"__End\", flush=True) \n",
    "    ####################################################  "
   ]
  }
 ],
 "metadata": {
  "kernelspec": {
   "display_name": "base",
   "language": "python",
   "name": "python3"
  },
  "language_info": {
   "codemirror_mode": {
    "name": "ipython",
    "version": 3
   },
   "file_extension": ".py",
   "mimetype": "text/x-python",
   "name": "python",
   "nbconvert_exporter": "python",
   "pygments_lexer": "ipython3",
   "version": "3.9.12"
  }
 },
 "nbformat": 4,
 "nbformat_minor": 2
}
