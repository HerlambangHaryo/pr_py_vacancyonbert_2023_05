{
 "cells": [
  {
   "cell_type": "code",
   "execution_count": 1,
   "metadata": {},
   "outputs": [
    {
     "name": "stdout",
     "output_type": "stream",
     "text": [
      "  ____dynamic()\n",
      "  ______split length: 1\n",
      "  ________updated_data_single_begining()\n",
      "  __________UPDATE `datasets` SET  `tingkat_pendidikan` = 'B'  WHERE name like 'SMK' \n",
      "  ____End\n"
     ]
    }
   ],
   "source": [
    "# Import\n",
    "import sys\n",
    "sys.path.append('../../../')\n",
    " \n",
    "from a_models.dynamic_annotation import *   \n",
    " \n",
    "if __name__ == '__main__': \n",
    "    # --------------------------------------------------     \n",
    "    space = \"  __\" \n",
    "    # --------------------------------------------------  \n",
    "    entity          = 'SMK'  \n",
    "    named_entity    = 'tingkat_pendidikan'\n",
    "    # --------------------------------------------------  \n",
    "    dynamic(entity, named_entity, space)\n",
    "    # --------------------------------------------------   \n",
    "    print(space + \"__End\", flush=True) \n",
    "    ####################################################  "
   ]
  }
 ],
 "metadata": {
  "kernelspec": {
   "display_name": "base",
   "language": "python",
   "name": "python3"
  },
  "language_info": {
   "codemirror_mode": {
    "name": "ipython",
    "version": 3
   },
   "file_extension": ".py",
   "mimetype": "text/x-python",
   "name": "python",
   "nbconvert_exporter": "python",
   "pygments_lexer": "ipython3",
   "version": "3.9.12"
  }
 },
 "nbformat": 4,
 "nbformat_minor": 2
}
