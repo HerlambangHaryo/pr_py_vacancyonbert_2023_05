{
 "cells": [
  {
   "cell_type": "code",
   "execution_count": 1,
   "metadata": {},
   "outputs": [
    {
     "name": "stdout",
     "output_type": "stream",
     "text": [
      "  ____dynamic()\n",
      "  ______split length: 1\n",
      "  __________updated_data_single_begining()\n",
      "  ____________UPDATE `datasets` SET  `tingkat_pendidikan` = 'B'  WHERE name like 'Sarjana' \n",
      "  __End\n"
     ]
    }
   ],
   "source": [
    "# Import\n",
    "import sys\n",
    "sys.path.append('../../../')\n",
    " \n",
    "from a_models.dynamic_annotation import *   \n",
    " \n",
    "if __name__ == '__main__': \n",
    "    # --------------------------------------------------     \n",
    "    space = \"  __\" \n",
    "    # --------------------------------------------------  \n",
    "    entity          = 'Sarjana'  \n",
    "    named_entity    = 'tingkat_pendidikan'\n",
    "    # --------------------------------------------------  \n",
    "    dynamic(entity, named_entity, space)\n",
    "    # --------------------------------------------------   \n",
    "    print(space + \"__End\", flush=True) \n",
    "    ####################################################  "
   ]
  }
 ],
 "metadata": {
  "kernelspec": {
   "display_name": "base",
   "language": "python",
   "name": "python3"
  },
  "language_info": {
   "codemirror_mode": {
    "name": "ipython",
    "version": 3
   },
   "file_extension": ".py",
   "mimetype": "text/x-python",
   "name": "python",
   "nbconvert_exporter": "python",
   "pygments_lexer": "ipython3",
   "version": "3.9.12"
  }
 },
 "nbformat": 4,
 "nbformat_minor": 2
}
