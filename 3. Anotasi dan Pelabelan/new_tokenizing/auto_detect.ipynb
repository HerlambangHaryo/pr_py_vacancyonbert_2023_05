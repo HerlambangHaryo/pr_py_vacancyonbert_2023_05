{
 "cells": [
  {
   "cell_type": "code",
   "execution_count": 4,
   "metadata": {},
   "outputs": [
    {
     "name": "stdout",
     "output_type": "stream",
     "text": [
      "  ____detect()\n",
      "  ______Select  id  , nama  , label  from anotasis  where nama like '~%'  and done is null \n",
      "  ________Total Row(s) : 9\n",
      "  __________[1/9]  #155 __ ~ Have __ persyaratan\n",
      "  __________auto_detect()\n",
      "  ____________Select  id  , name  from datasets where name like 'Have'  and persyaratan = 'O' \n",
      "  ______________Total Row(s) : 12262\n",
      "  __________[2/9]  #156 __ ~ Having __ persyaratan\n",
      "  __________auto_detect()\n",
      "  ____________Select  id  , name  from datasets where name like 'Having'  and persyaratan = 'O' \n",
      "  ______________Total Row(s) : 4253\n",
      "  __________[3/9]  #157 __ ~ Track __ tugas\n",
      "  __________auto_detect()\n",
      "  ____________Select  id  , name  from datasets where name like 'Track'  and tugas = 'O' \n",
      "  ______________Total Row(s) : 1404\n",
      "  __________[4/9]  #158 __ ~ Create __ tugas\n",
      "  __________auto_detect()\n",
      "  ____________Select  id  , name  from datasets where name like 'Create'  and tugas = 'O' \n",
      "  ______________Total Row(s) : 4190\n",
      "  __________[5/9]  #159 __ ~ Menguasai __ tugas\n",
      "  __________auto_detect()\n",
      "  ____________Select  id  , name  from datasets where name like 'Menguasai'  and tugas = 'O' \n",
      "  ______________Total Row(s) : 7811\n",
      "  __________[6/9]  #160 __ ~ Siap __ tugas\n",
      "  __________auto_detect()\n",
      "  ____________Select  id  , name  from datasets where name like 'Siap'  and tugas = 'O' \n",
      "  ______________Total Row(s) : 2466\n",
      "  __________[7/9]  #161 __ ~ Bertanggung __ tugas\n",
      "  __________auto_detect()\n",
      "  ____________Select  id  , name  from datasets where name like 'Bertanggung'  and tugas = 'O' \n",
      "  ______________Total Row(s) : 10286\n",
      "  __________[8/9]  #162 __ ~ Mengedukasi __ tugas\n",
      "  __________auto_detect()\n",
      "  ____________Select  id  , name  from datasets where name like 'Mengedukasi'  and tugas = 'O' \n",
      "  ______________Total Row(s) : 174\n",
      "  __________[9/9]  #163 __ ~ Kanvasing __ tugas\n",
      "  __________auto_detect()\n",
      "  ____________Select  id  , name  from datasets where name like 'Kanvasing'  and tugas = 'O' \n",
      "  ______________Total Row(s) : 38\n",
      "  ____End\n"
     ]
    }
   ],
   "source": [
    "# Import\n",
    "import sys\n",
    "sys.path.append('../../')\n",
    " \n",
    "from a_models.auto_detect_annotation import *   \n",
    " \n",
    "if __name__ == '__main__': \n",
    "    # --------------------------------------------------     \n",
    "    space = \"  __\"  \n",
    "    # --------------------------------------------------  \n",
    "    table           = 'datasets' \n",
    "    # --------------------------------------------------  \n",
    "    detect(table, space)\n",
    "    # --------------------------------------------------   \n",
    "    print(space + \"__End\", flush=True) \n",
    "    ####################################################  "
   ]
  }
 ],
 "metadata": {
  "kernelspec": {
   "display_name": "base",
   "language": "python",
   "name": "python3"
  },
  "language_info": {
   "codemirror_mode": {
    "name": "ipython",
    "version": 3
   },
   "file_extension": ".py",
   "mimetype": "text/x-python",
   "name": "python",
   "nbconvert_exporter": "python",
   "pygments_lexer": "ipython3",
   "version": "3.9.12"
  }
 },
 "nbformat": 4,
 "nbformat_minor": 2
}
