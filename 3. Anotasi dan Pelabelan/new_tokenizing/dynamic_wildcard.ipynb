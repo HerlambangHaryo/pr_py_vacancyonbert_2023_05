{
 "cells": [
  {
   "cell_type": "code",
   "execution_count": 1,
   "metadata": {},
   "outputs": [
    {
     "name": "stdout",
     "output_type": "stream",
     "text": [
      "  ____dynamic_wildcard()\n",
      "  ______Select  id  , nama  , label  from anotasis  where done is null  and label is not null \n",
      "  ________Total Row(s) : 1\n",
      "  __________[1/1]  #22 __ Memiliki SIM A dan C __ B-Persyaratan I-Persyaratan I-Persyaratan I-Persyaratan I-Persyaratan\n",
      "  __________dynamic()\n",
      "  ____________entity: Memiliki SIM A dan C\n",
      "  ____________split length: 5\n",
      "  ______________word_0()\n",
      "  ________________Select  id  , name  from datasets  where name like \"Memiliki\"  and \"persyaratan\"  != \"B\"  order by id asc \n",
      "  __________________Total Row(s) : 51428\n",
      "  __________________round_10_perc Row(s) : 5143\n",
      "  ____________________[1/51428]  #95 __ Memiliki __ 0\n",
      "  __________________________[1/1]  #96 __ integritas __ nte: SIM __ csX: 1 __ lsX: 5\n",
      "  __________________\n",
      "  ____________________[5143/51428]  #913720 __ Memiliki __ 0\n",
      "  __________________________[1/1]  #913721 __ minimum __ nte: SIM __ csX: 1 __ lsX: 5\n",
      "  __________________\n",
      "  ____________________[10286/51428]  #1847966 __ Memiliki __ 0\n",
      "  __________________________[1/1]  #1847967 __ kemampuan __ nte: SIM __ csX: 1 __ lsX: 5\n",
      "  __________________\n",
      "  ____________________[15429/51428]  #2621551 __ Memiliki __ 0\n",
      "  __________________________[1/1]  #2621552 __ pengalaman __ nte: SIM __ csX: 1 __ lsX: 5\n",
      "  __________________\n",
      "  ____________________[20572/51428]  #3411329 __ Memiliki __ 0\n",
      "  __________________________[1/1]  #3411330 __ Sepeda __ nte: SIM __ csX: 1 __ lsX: 5\n",
      "  __________________\n",
      "  ____________________[25715/51428]  #4227754 __ Memiliki __ 0\n",
      "  __________________________[1/1]  #4227755 __ skill __ nte: SIM __ csX: 1 __ lsX: 5\n",
      "  __________________\n",
      "  ____________________[30858/51428]  #5048136 __ Memiliki __ 0\n",
      "  __________________________[1/1]  #5048137 __ pemahaman __ nte: SIM __ csX: 1 __ lsX: 5\n",
      "  __________________\n",
      "  ____________________[36001/51428]  #5827151 __ memiliki __ 0\n",
      "  __________________________[1/1]  #5827152 __ KTP __ nte: SIM __ csX: 1 __ lsX: 5\n",
      "  __________________\n",
      "  ____________________[41144/51428]  #6593294 __ memiliki __ 0\n",
      "  __________________________[1/1]  #6593295 __ KTP __ nte: SIM __ csX: 1 __ lsX: 5\n",
      "  __________________\n",
      "  ____________________[46287/51428]  #7384279 __ memiliki __ 0\n",
      "  __________________________[1/1]  #7384280 __ KTP __ nte: SIM __ csX: 1 __ lsX: 5\n",
      "  __________________\n",
      "  ____End\n"
     ]
    }
   ],
   "source": [
    "# Import\n",
    "import sys\n",
    "sys.path.append('../../')\n",
    " \n",
    "from a_models.dynamic_annotation import *   \n",
    " \n",
    "if __name__ == '__main__': \n",
    "    # --------------------------------------------------     \n",
    "    space = \"  __\"  \n",
    "    # --------------------------------------------------  \n",
    "    printx          = 'no'\n",
    "    updatex         = 'yes'\n",
    "    # --------------------------------------------------  \n",
    "    dynamic_wildcard(printx, updatex, space)\n",
    "    # --------------------------------------------------   \n",
    "    print(space + \"__End\", flush=True) \n",
    "    ####################################################  "
   ]
  }
 ],
 "metadata": {
  "kernelspec": {
   "display_name": "base",
   "language": "python",
   "name": "python3"
  },
  "language_info": {
   "codemirror_mode": {
    "name": "ipython",
    "version": 3
   },
   "file_extension": ".py",
   "mimetype": "text/x-python",
   "name": "python",
   "nbconvert_exporter": "python",
   "pygments_lexer": "ipython3",
   "version": "3.9.12"
  }
 },
 "nbformat": 4,
 "nbformat_minor": 2
}
